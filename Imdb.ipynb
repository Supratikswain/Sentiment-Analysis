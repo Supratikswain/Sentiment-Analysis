{
 "cells": [
  {
   "cell_type": "code",
   "execution_count": 1,
   "metadata": {},
   "outputs": [],
   "source": [
    "import pandas as pd\n",
    "import os\n",
    "import numpy as np\n",
    "basepath = 'aclImdb'\n",
    "\n",
    "labels = {'pos': 1, 'neg': 0}\n",
    "#pbar = pyprind.ProgBar(50000)\n",
    "df = pd.DataFrame()\n",
    "\n",
    "s = 'train'\n",
    "for l in ('pos', 'neg'):\n",
    "    \n",
    "    path = os.path.join(basepath, s, l)\n",
    "    for file in os.listdir(path):\n",
    "        with open(os.path.join(path, file), 'r', encoding='utf-8') as infile:\n",
    "            txt = infile.read()\n",
    "        df = df.append([[txt, labels[l]]], ignore_index=True)\n",
    "        #pbar.update()\n",
    "\n",
    "df.columns = ['review', 'sentiment']\n",
    "\n",
    "np.random.seed(0)\n",
    "\n",
    "df = df.reindex(np.random.permutation(df.index))\n",
    "#df.to_csv('IMDb_Reviews.csv', index=False, encoding='utf-8')\n"
   ]
  },
  {
   "cell_type": "code",
   "execution_count": 2,
   "metadata": {},
   "outputs": [],
   "source": [
    "df\n",
    "df_neg= df[df['sentiment']==0]\n",
    "df_pos = df[df['sentiment']==1]\n"
   ]
  },
  {
   "cell_type": "code",
   "execution_count": 3,
   "metadata": {},
   "outputs": [
    {
     "data": {
      "text/html": [
       "<div>\n",
       "<style scoped>\n",
       "    .dataframe tbody tr th:only-of-type {\n",
       "        vertical-align: middle;\n",
       "    }\n",
       "\n",
       "    .dataframe tbody tr th {\n",
       "        vertical-align: top;\n",
       "    }\n",
       "\n",
       "    .dataframe thead th {\n",
       "        text-align: right;\n",
       "    }\n",
       "</style>\n",
       "<table border=\"1\" class=\"dataframe\">\n",
       "  <thead>\n",
       "    <tr style=\"text-align: right;\">\n",
       "      <th></th>\n",
       "      <th>review</th>\n",
       "      <th>sentiment</th>\n",
       "    </tr>\n",
       "  </thead>\n",
       "  <tbody>\n",
       "    <tr>\n",
       "      <th>7386</th>\n",
       "      <td>Working with one of the best Shakespeare sourc...</td>\n",
       "      <td>0</td>\n",
       "    </tr>\n",
       "    <tr>\n",
       "      <th>17863</th>\n",
       "      <td>Well...tremors I, the original started off in ...</td>\n",
       "      <td>0</td>\n",
       "    </tr>\n",
       "    <tr>\n",
       "      <th>5460</th>\n",
       "      <td>Ouch! This one was a bit painful to sit throug...</td>\n",
       "      <td>0</td>\n",
       "    </tr>\n",
       "    <tr>\n",
       "      <th>670</th>\n",
       "      <td>I've seen some crappy movies in my life, but t...</td>\n",
       "      <td>0</td>\n",
       "    </tr>\n",
       "    <tr>\n",
       "      <th>11874</th>\n",
       "      <td>\"Carriers\" follows the exploits of two guys an...</td>\n",
       "      <td>0</td>\n",
       "    </tr>\n",
       "    <tr>\n",
       "      <th>8016</th>\n",
       "      <td>I had been looking forward to seeing this film...</td>\n",
       "      <td>0</td>\n",
       "    </tr>\n",
       "    <tr>\n",
       "      <th>9260</th>\n",
       "      <td>Effect(s) without cause is generally not possi...</td>\n",
       "      <td>0</td>\n",
       "    </tr>\n",
       "    <tr>\n",
       "      <th>9408</th>\n",
       "      <td>This picture started out with good intentions,...</td>\n",
       "      <td>0</td>\n",
       "    </tr>\n",
       "    <tr>\n",
       "      <th>4157</th>\n",
       "      <td>I chose to see this movie because it got a goo...</td>\n",
       "      <td>0</td>\n",
       "    </tr>\n",
       "    <tr>\n",
       "      <th>2819</th>\n",
       "      <td>This film has to be the worst I have ever seen...</td>\n",
       "      <td>0</td>\n",
       "    </tr>\n",
       "    <tr>\n",
       "      <th>16117</th>\n",
       "      <td>I felt brain dead, I'll tell you. This is the ...</td>\n",
       "      <td>0</td>\n",
       "    </tr>\n",
       "    <tr>\n",
       "      <th>16073</th>\n",
       "      <td>A young scientist is trying to carry on his de...</td>\n",
       "      <td>0</td>\n",
       "    </tr>\n",
       "    <tr>\n",
       "      <th>1282</th>\n",
       "      <td>Inept, boring, and incoherent supernatural \"th...</td>\n",
       "      <td>0</td>\n",
       "    </tr>\n",
       "    <tr>\n",
       "      <th>16327</th>\n",
       "      <td>From the first time I saw the box cover of the...</td>\n",
       "      <td>0</td>\n",
       "    </tr>\n",
       "    <tr>\n",
       "      <th>2729</th>\n",
       "      <td>I find it hard to believe that anyone would pu...</td>\n",
       "      <td>0</td>\n",
       "    </tr>\n",
       "    <tr>\n",
       "      <th>5</th>\n",
       "      <td>I actually saw China O'Brien II before I ever ...</td>\n",
       "      <td>0</td>\n",
       "    </tr>\n",
       "    <tr>\n",
       "      <th>18594</th>\n",
       "      <td>I went to school with Jeremy Earl, that is how...</td>\n",
       "      <td>0</td>\n",
       "    </tr>\n",
       "    <tr>\n",
       "      <th>9945</th>\n",
       "      <td>I haven't seen this, &amp; don't plan to see this ...</td>\n",
       "      <td>0</td>\n",
       "    </tr>\n",
       "    <tr>\n",
       "      <th>12611</th>\n",
       "      <td>I haven't seen anything this bad since I walke...</td>\n",
       "      <td>0</td>\n",
       "    </tr>\n",
       "    <tr>\n",
       "      <th>14388</th>\n",
       "      <td>One would think that a film about a young pers...</td>\n",
       "      <td>0</td>\n",
       "    </tr>\n",
       "    <tr>\n",
       "      <th>5843</th>\n",
       "      <td>We've all seen this story a hundred times. You...</td>\n",
       "      <td>0</td>\n",
       "    </tr>\n",
       "    <tr>\n",
       "      <th>5915</th>\n",
       "      <td>i should love this movie . the acting is very ...</td>\n",
       "      <td>0</td>\n",
       "    </tr>\n",
       "    <tr>\n",
       "      <th>12815</th>\n",
       "      <td>THE KING MAKER will doubtless be a success in ...</td>\n",
       "      <td>0</td>\n",
       "    </tr>\n",
       "    <tr>\n",
       "      <th>3408</th>\n",
       "      <td>Disney goes to the well one too many times as ...</td>\n",
       "      <td>0</td>\n",
       "    </tr>\n",
       "    <tr>\n",
       "      <th>3747</th>\n",
       "      <td>Quite possibly the worst movie I've ever seen;...</td>\n",
       "      <td>0</td>\n",
       "    </tr>\n",
       "    <tr>\n",
       "      <th>5180</th>\n",
       "      <td>(Spoilers)&lt;br /&gt;&lt;br /&gt;I was very curious to se...</td>\n",
       "      <td>0</td>\n",
       "    </tr>\n",
       "    <tr>\n",
       "      <th>24226</th>\n",
       "      <td>While some performances were good-Victoria Row...</td>\n",
       "      <td>0</td>\n",
       "    </tr>\n",
       "    <tr>\n",
       "      <th>7711</th>\n",
       "      <td>Despite what a lot of other people thought abo...</td>\n",
       "      <td>0</td>\n",
       "    </tr>\n",
       "    <tr>\n",
       "      <th>18475</th>\n",
       "      <td>Falsely accused, skirt-chasing chums John Wayn...</td>\n",
       "      <td>0</td>\n",
       "    </tr>\n",
       "    <tr>\n",
       "      <th>3074</th>\n",
       "      <td>I am not a big fan of horror films, and have o...</td>\n",
       "      <td>0</td>\n",
       "    </tr>\n",
       "    <tr>\n",
       "      <th>...</th>\n",
       "      <td>...</td>\n",
       "      <td>...</td>\n",
       "    </tr>\n",
       "    <tr>\n",
       "      <th>4851</th>\n",
       "      <td>Everybody who wants to be an editor should wat...</td>\n",
       "      <td>0</td>\n",
       "    </tr>\n",
       "    <tr>\n",
       "      <th>5072</th>\n",
       "      <td>Made one year before ILSA, SHE-WOLF OF THE SS,...</td>\n",
       "      <td>0</td>\n",
       "    </tr>\n",
       "    <tr>\n",
       "      <th>2163</th>\n",
       "      <td>Boring children's fantasy that gives Joan Plow...</td>\n",
       "      <td>0</td>\n",
       "    </tr>\n",
       "    <tr>\n",
       "      <th>6036</th>\n",
       "      <td>Honestly, who in God's name gave this movie an...</td>\n",
       "      <td>0</td>\n",
       "    </tr>\n",
       "    <tr>\n",
       "      <th>6921</th>\n",
       "      <td>The goofy Griswalds win the T.V. game show \"pi...</td>\n",
       "      <td>0</td>\n",
       "    </tr>\n",
       "    <tr>\n",
       "      <th>6216</th>\n",
       "      <td>Yet another early film from Alfred Hitchcock w...</td>\n",
       "      <td>0</td>\n",
       "    </tr>\n",
       "    <tr>\n",
       "      <th>16921</th>\n",
       "      <td>Some have praised _Atlantis:_The_Lost_Empire_ ...</td>\n",
       "      <td>0</td>\n",
       "    </tr>\n",
       "    <tr>\n",
       "      <th>2897</th>\n",
       "      <td>There is simply no use in trying to glorify an...</td>\n",
       "      <td>0</td>\n",
       "    </tr>\n",
       "    <tr>\n",
       "      <th>24152</th>\n",
       "      <td>I have no idea what on earth, or beyond, could...</td>\n",
       "      <td>0</td>\n",
       "    </tr>\n",
       "    <tr>\n",
       "      <th>18606</th>\n",
       "      <td>I had eagerly awaited the first screening of t...</td>\n",
       "      <td>0</td>\n",
       "    </tr>\n",
       "    <tr>\n",
       "      <th>10327</th>\n",
       "      <td>As others have said, \"No, Luciano\" is a more a...</td>\n",
       "      <td>0</td>\n",
       "    </tr>\n",
       "    <tr>\n",
       "      <th>18983</th>\n",
       "      <td>I found the documentary entitled Fast, Cheap, ...</td>\n",
       "      <td>0</td>\n",
       "    </tr>\n",
       "    <tr>\n",
       "      <th>17089</th>\n",
       "      <td>What a shame it is when a potentially captivat...</td>\n",
       "      <td>0</td>\n",
       "    </tr>\n",
       "    <tr>\n",
       "      <th>14650</th>\n",
       "      <td>This is a good example of how NOT to make a fi...</td>\n",
       "      <td>0</td>\n",
       "    </tr>\n",
       "    <tr>\n",
       "      <th>19852</th>\n",
       "      <td>I was willing to go with the original _Cruel I...</td>\n",
       "      <td>0</td>\n",
       "    </tr>\n",
       "    <tr>\n",
       "      <th>6744</th>\n",
       "      <td>The Nutcracker has always been a somewhat prob...</td>\n",
       "      <td>0</td>\n",
       "    </tr>\n",
       "    <tr>\n",
       "      <th>15832</th>\n",
       "      <td>I wasn't expecting a lot from a film directed ...</td>\n",
       "      <td>0</td>\n",
       "    </tr>\n",
       "    <tr>\n",
       "      <th>15430</th>\n",
       "      <td>I haven't seen \"Henry Fool\", but after watchin...</td>\n",
       "      <td>0</td>\n",
       "    </tr>\n",
       "    <tr>\n",
       "      <th>14935</th>\n",
       "      <td>Must every good story be \"improved\" with added...</td>\n",
       "      <td>0</td>\n",
       "    </tr>\n",
       "    <tr>\n",
       "      <th>14116</th>\n",
       "      <td>The Christmas Secret was touted as a wonderful...</td>\n",
       "      <td>0</td>\n",
       "    </tr>\n",
       "    <tr>\n",
       "      <th>22258</th>\n",
       "      <td>Four Eyed Monsters follows the relationship of...</td>\n",
       "      <td>0</td>\n",
       "    </tr>\n",
       "    <tr>\n",
       "      <th>20757</th>\n",
       "      <td>Oh, I heard so much good about this movie. Wen...</td>\n",
       "      <td>0</td>\n",
       "    </tr>\n",
       "    <tr>\n",
       "      <th>24275</th>\n",
       "      <td>What a disappointment, especially in light of ...</td>\n",
       "      <td>0</td>\n",
       "    </tr>\n",
       "    <tr>\n",
       "      <th>9225</th>\n",
       "      <td>&lt;br /&gt;&lt;br /&gt;According to reviewers, the year i...</td>\n",
       "      <td>0</td>\n",
       "    </tr>\n",
       "    <tr>\n",
       "      <th>21243</th>\n",
       "      <td>Richard Farnsworth is one of my favorite actor...</td>\n",
       "      <td>0</td>\n",
       "    </tr>\n",
       "    <tr>\n",
       "      <th>13123</th>\n",
       "      <td>My comments may be a bit of a spoiler, for wha...</td>\n",
       "      <td>0</td>\n",
       "    </tr>\n",
       "    <tr>\n",
       "      <th>19648</th>\n",
       "      <td>The \"saucy\" misadventures of four au pairs who...</td>\n",
       "      <td>0</td>\n",
       "    </tr>\n",
       "    <tr>\n",
       "      <th>9845</th>\n",
       "      <td>Oh, those Italians! Assuming that movies about...</td>\n",
       "      <td>0</td>\n",
       "    </tr>\n",
       "    <tr>\n",
       "      <th>10799</th>\n",
       "      <td>Eight academy nominations? It's beyond belief....</td>\n",
       "      <td>0</td>\n",
       "    </tr>\n",
       "    <tr>\n",
       "      <th>2732</th>\n",
       "      <td>Not that I dislike childrens movies, but this ...</td>\n",
       "      <td>0</td>\n",
       "    </tr>\n",
       "  </tbody>\n",
       "</table>\n",
       "<p>12500 rows × 2 columns</p>\n",
       "</div>"
      ],
      "text/plain": [
       "                                                  review  sentiment\n",
       "7386   Working with one of the best Shakespeare sourc...          0\n",
       "17863  Well...tremors I, the original started off in ...          0\n",
       "5460   Ouch! This one was a bit painful to sit throug...          0\n",
       "670    I've seen some crappy movies in my life, but t...          0\n",
       "11874  \"Carriers\" follows the exploits of two guys an...          0\n",
       "8016   I had been looking forward to seeing this film...          0\n",
       "9260   Effect(s) without cause is generally not possi...          0\n",
       "9408   This picture started out with good intentions,...          0\n",
       "4157   I chose to see this movie because it got a goo...          0\n",
       "2819   This film has to be the worst I have ever seen...          0\n",
       "16117  I felt brain dead, I'll tell you. This is the ...          0\n",
       "16073  A young scientist is trying to carry on his de...          0\n",
       "1282   Inept, boring, and incoherent supernatural \"th...          0\n",
       "16327  From the first time I saw the box cover of the...          0\n",
       "2729   I find it hard to believe that anyone would pu...          0\n",
       "5      I actually saw China O'Brien II before I ever ...          0\n",
       "18594  I went to school with Jeremy Earl, that is how...          0\n",
       "9945   I haven't seen this, & don't plan to see this ...          0\n",
       "12611  I haven't seen anything this bad since I walke...          0\n",
       "14388  One would think that a film about a young pers...          0\n",
       "5843   We've all seen this story a hundred times. You...          0\n",
       "5915   i should love this movie . the acting is very ...          0\n",
       "12815  THE KING MAKER will doubtless be a success in ...          0\n",
       "3408   Disney goes to the well one too many times as ...          0\n",
       "3747   Quite possibly the worst movie I've ever seen;...          0\n",
       "5180   (Spoilers)<br /><br />I was very curious to se...          0\n",
       "24226  While some performances were good-Victoria Row...          0\n",
       "7711   Despite what a lot of other people thought abo...          0\n",
       "18475  Falsely accused, skirt-chasing chums John Wayn...          0\n",
       "3074   I am not a big fan of horror films, and have o...          0\n",
       "...                                                  ...        ...\n",
       "4851   Everybody who wants to be an editor should wat...          0\n",
       "5072   Made one year before ILSA, SHE-WOLF OF THE SS,...          0\n",
       "2163   Boring children's fantasy that gives Joan Plow...          0\n",
       "6036   Honestly, who in God's name gave this movie an...          0\n",
       "6921   The goofy Griswalds win the T.V. game show \"pi...          0\n",
       "6216   Yet another early film from Alfred Hitchcock w...          0\n",
       "16921  Some have praised _Atlantis:_The_Lost_Empire_ ...          0\n",
       "2897   There is simply no use in trying to glorify an...          0\n",
       "24152  I have no idea what on earth, or beyond, could...          0\n",
       "18606  I had eagerly awaited the first screening of t...          0\n",
       "10327  As others have said, \"No, Luciano\" is a more a...          0\n",
       "18983  I found the documentary entitled Fast, Cheap, ...          0\n",
       "17089  What a shame it is when a potentially captivat...          0\n",
       "14650  This is a good example of how NOT to make a fi...          0\n",
       "19852  I was willing to go with the original _Cruel I...          0\n",
       "6744   The Nutcracker has always been a somewhat prob...          0\n",
       "15832  I wasn't expecting a lot from a film directed ...          0\n",
       "15430  I haven't seen \"Henry Fool\", but after watchin...          0\n",
       "14935  Must every good story be \"improved\" with added...          0\n",
       "14116  The Christmas Secret was touted as a wonderful...          0\n",
       "22258  Four Eyed Monsters follows the relationship of...          0\n",
       "20757  Oh, I heard so much good about this movie. Wen...          0\n",
       "24275  What a disappointment, especially in light of ...          0\n",
       "9225   <br /><br />According to reviewers, the year i...          0\n",
       "21243  Richard Farnsworth is one of my favorite actor...          0\n",
       "13123  My comments may be a bit of a spoiler, for wha...          0\n",
       "19648  The \"saucy\" misadventures of four au pairs who...          0\n",
       "9845   Oh, those Italians! Assuming that movies about...          0\n",
       "10799  Eight academy nominations? It's beyond belief....          0\n",
       "2732   Not that I dislike childrens movies, but this ...          0\n",
       "\n",
       "[12500 rows x 2 columns]"
      ]
     },
     "execution_count": 3,
     "metadata": {},
     "output_type": "execute_result"
    }
   ],
   "source": [
    "df_neg"
   ]
  },
  {
   "cell_type": "code",
   "execution_count": 4,
   "metadata": {
    "scrolled": true
   },
   "outputs": [
    {
     "data": {
      "text/html": [
       "<div>\n",
       "<style scoped>\n",
       "    .dataframe tbody tr th:only-of-type {\n",
       "        vertical-align: middle;\n",
       "    }\n",
       "\n",
       "    .dataframe tbody tr th {\n",
       "        vertical-align: top;\n",
       "    }\n",
       "\n",
       "    .dataframe thead th {\n",
       "        text-align: right;\n",
       "    }\n",
       "</style>\n",
       "<table border=\"1\" class=\"dataframe\">\n",
       "  <thead>\n",
       "    <tr style=\"text-align: right;\">\n",
       "      <th></th>\n",
       "      <th>review</th>\n",
       "      <th>sentiment</th>\n",
       "    </tr>\n",
       "  </thead>\n",
       "  <tbody>\n",
       "    <tr>\n",
       "      <th>14149</th>\n",
       "      <td>For a movie that gets no respect there sure ar...</td>\n",
       "      <td>1</td>\n",
       "    </tr>\n",
       "    <tr>\n",
       "      <th>8946</th>\n",
       "      <td>Bizarre horror movie filled with famous faces ...</td>\n",
       "      <td>1</td>\n",
       "    </tr>\n",
       "    <tr>\n",
       "      <th>22378</th>\n",
       "      <td>A solid, if unremarkable film. Matthau, as Ein...</td>\n",
       "      <td>1</td>\n",
       "    </tr>\n",
       "    <tr>\n",
       "      <th>12162</th>\n",
       "      <td>It's a strange feeling to sit alone in a theat...</td>\n",
       "      <td>1</td>\n",
       "    </tr>\n",
       "    <tr>\n",
       "      <th>4879</th>\n",
       "      <td>You probably all already know this by now, but...</td>\n",
       "      <td>1</td>\n",
       "    </tr>\n",
       "    <tr>\n",
       "      <th>12710</th>\n",
       "      <td>I saw the movie with two grown children. Altho...</td>\n",
       "      <td>1</td>\n",
       "    </tr>\n",
       "    <tr>\n",
       "      <th>24595</th>\n",
       "      <td>You're using the IMDb.&lt;br /&gt;&lt;br /&gt;You've given...</td>\n",
       "      <td>1</td>\n",
       "    </tr>\n",
       "    <tr>\n",
       "      <th>308</th>\n",
       "      <td>This was a good film with a powerful message o...</td>\n",
       "      <td>1</td>\n",
       "    </tr>\n",
       "    <tr>\n",
       "      <th>4343</th>\n",
       "      <td>Made after QUARTET was, TRIO continued the qua...</td>\n",
       "      <td>1</td>\n",
       "    </tr>\n",
       "    <tr>\n",
       "      <th>18230</th>\n",
       "      <td>For a mature man, to admit that he shed a tear...</td>\n",
       "      <td>1</td>\n",
       "    </tr>\n",
       "    <tr>\n",
       "      <th>7570</th>\n",
       "      <td>Aileen Gonsalves, my girlfriend, is in this fi...</td>\n",
       "      <td>1</td>\n",
       "    </tr>\n",
       "    <tr>\n",
       "      <th>7825</th>\n",
       "      <td>Jonathan Demme's directorial debut for Roger C...</td>\n",
       "      <td>1</td>\n",
       "    </tr>\n",
       "    <tr>\n",
       "      <th>11704</th>\n",
       "      <td>When I rented this movie to watch it, I knew t...</td>\n",
       "      <td>1</td>\n",
       "    </tr>\n",
       "    <tr>\n",
       "      <th>19453</th>\n",
       "      <td>It's hard to say sometimes why exactly a film ...</td>\n",
       "      <td>1</td>\n",
       "    </tr>\n",
       "    <tr>\n",
       "      <th>2808</th>\n",
       "      <td>Yes, this gets the full ten stars. It's plain ...</td>\n",
       "      <td>1</td>\n",
       "    </tr>\n",
       "    <tr>\n",
       "      <th>16065</th>\n",
       "      <td>Hello. This movie is.......well.......okay. Ju...</td>\n",
       "      <td>1</td>\n",
       "    </tr>\n",
       "    <tr>\n",
       "      <th>24827</th>\n",
       "      <td>This is a film that was very well done. I had ...</td>\n",
       "      <td>1</td>\n",
       "    </tr>\n",
       "    <tr>\n",
       "      <th>14171</th>\n",
       "      <td>A typical romp through Cheech and Chong's real...</td>\n",
       "      <td>1</td>\n",
       "    </tr>\n",
       "    <tr>\n",
       "      <th>18454</th>\n",
       "      <td>OK heres what I say: &lt;br /&gt;&lt;br /&gt;The movie was...</td>\n",
       "      <td>1</td>\n",
       "    </tr>\n",
       "    <tr>\n",
       "      <th>15252</th>\n",
       "      <td>This is one of the first films I can remember,...</td>\n",
       "      <td>1</td>\n",
       "    </tr>\n",
       "    <tr>\n",
       "      <th>20990</th>\n",
       "      <td>This film is worth seeing alone for Jared Harr...</td>\n",
       "      <td>1</td>\n",
       "    </tr>\n",
       "    <tr>\n",
       "      <th>24653</th>\n",
       "      <td>I was 10 years old when this show was on TV. B...</td>\n",
       "      <td>1</td>\n",
       "    </tr>\n",
       "    <tr>\n",
       "      <th>7448</th>\n",
       "      <td>Here's another movie that should be loaded int...</td>\n",
       "      <td>1</td>\n",
       "    </tr>\n",
       "    <tr>\n",
       "      <th>3960</th>\n",
       "      <td>To all the reviewers on this page, I would hav...</td>\n",
       "      <td>1</td>\n",
       "    </tr>\n",
       "    <tr>\n",
       "      <th>14517</th>\n",
       "      <td>A favourite of mine,this movie tells of two fe...</td>\n",
       "      <td>1</td>\n",
       "    </tr>\n",
       "    <tr>\n",
       "      <th>10057</th>\n",
       "      <td>As Most Off You Might off Seen Star Wars: Retu...</td>\n",
       "      <td>1</td>\n",
       "    </tr>\n",
       "    <tr>\n",
       "      <th>11947</th>\n",
       "      <td>I thought this movie was LOL funny. It's a fun...</td>\n",
       "      <td>1</td>\n",
       "    </tr>\n",
       "    <tr>\n",
       "      <th>8729</th>\n",
       "      <td>Hood of the Living Dead had a lot to live up t...</td>\n",
       "      <td>1</td>\n",
       "    </tr>\n",
       "    <tr>\n",
       "      <th>15826</th>\n",
       "      <td>Pierce Brosnan the newest but no longer James ...</td>\n",
       "      <td>1</td>\n",
       "    </tr>\n",
       "    <tr>\n",
       "      <th>3861</th>\n",
       "      <td>This is one of those Film's/pilot that if you ...</td>\n",
       "      <td>1</td>\n",
       "    </tr>\n",
       "    <tr>\n",
       "      <th>...</th>\n",
       "      <td>...</td>\n",
       "      <td>...</td>\n",
       "    </tr>\n",
       "    <tr>\n",
       "      <th>23472</th>\n",
       "      <td>The Rookie is based on the true story of a 40+...</td>\n",
       "      <td>1</td>\n",
       "    </tr>\n",
       "    <tr>\n",
       "      <th>5252</th>\n",
       "      <td>When I learned of Sir Alec Guinness' death, th...</td>\n",
       "      <td>1</td>\n",
       "    </tr>\n",
       "    <tr>\n",
       "      <th>24091</th>\n",
       "      <td>Beautiful and touching movie. Rich colors, gre...</td>\n",
       "      <td>1</td>\n",
       "    </tr>\n",
       "    <tr>\n",
       "      <th>12173</th>\n",
       "      <td>Absolutely wonderful drama and Ros is top notc...</td>\n",
       "      <td>1</td>\n",
       "    </tr>\n",
       "    <tr>\n",
       "      <th>9968</th>\n",
       "      <td>Actually this movie has silly moments, both in...</td>\n",
       "      <td>1</td>\n",
       "    </tr>\n",
       "    <tr>\n",
       "      <th>16182</th>\n",
       "      <td>Before Tuscan Sky, I saw Diane Lane's tender p...</td>\n",
       "      <td>1</td>\n",
       "    </tr>\n",
       "    <tr>\n",
       "      <th>3226</th>\n",
       "      <td>Return To The 3th Chamber is the comedic seque...</td>\n",
       "      <td>1</td>\n",
       "    </tr>\n",
       "    <tr>\n",
       "      <th>14811</th>\n",
       "      <td>I loved this excellent movie. Farrah Fawcett p...</td>\n",
       "      <td>1</td>\n",
       "    </tr>\n",
       "    <tr>\n",
       "      <th>5968</th>\n",
       "      <td>\"Descent.\" Yeah. Boy... I haven't seen anythin...</td>\n",
       "      <td>1</td>\n",
       "    </tr>\n",
       "    <tr>\n",
       "      <th>11522</th>\n",
       "      <td>FREDDY has gone from scary to funny,in this 6t...</td>\n",
       "      <td>1</td>\n",
       "    </tr>\n",
       "    <tr>\n",
       "      <th>9134</th>\n",
       "      <td>I had no expectations; I'd never heard of Jami...</td>\n",
       "      <td>1</td>\n",
       "    </tr>\n",
       "    <tr>\n",
       "      <th>13567</th>\n",
       "      <td>I think this movie had to be fun to make it, f...</td>\n",
       "      <td>1</td>\n",
       "    </tr>\n",
       "    <tr>\n",
       "      <th>7439</th>\n",
       "      <td>I thought that this film was very enjoyable. I...</td>\n",
       "      <td>1</td>\n",
       "    </tr>\n",
       "    <tr>\n",
       "      <th>3458</th>\n",
       "      <td>Sure this was a remake of a 70's film, but it ...</td>\n",
       "      <td>1</td>\n",
       "    </tr>\n",
       "    <tr>\n",
       "      <th>22592</th>\n",
       "      <td>Eytan Fox did it again : move the viewer's hea...</td>\n",
       "      <td>1</td>\n",
       "    </tr>\n",
       "    <tr>\n",
       "      <th>17621</th>\n",
       "      <td>It's highly stylized, but this movie shows tha...</td>\n",
       "      <td>1</td>\n",
       "    </tr>\n",
       "    <tr>\n",
       "      <th>12281</th>\n",
       "      <td>Since I first saw Anchors Aweigh in 1945, view...</td>\n",
       "      <td>1</td>\n",
       "    </tr>\n",
       "    <tr>\n",
       "      <th>18914</th>\n",
       "      <td>This is an very good movie. This is one that I...</td>\n",
       "      <td>1</td>\n",
       "    </tr>\n",
       "    <tr>\n",
       "      <th>17597</th>\n",
       "      <td>I'm gonna tip the scales here a bit and say I ...</td>\n",
       "      <td>1</td>\n",
       "    </tr>\n",
       "    <tr>\n",
       "      <th>18697</th>\n",
       "      <td>This was my first introduction to the world of...</td>\n",
       "      <td>1</td>\n",
       "    </tr>\n",
       "    <tr>\n",
       "      <th>15963</th>\n",
       "      <td>I rented this some years ago, the video store ...</td>\n",
       "      <td>1</td>\n",
       "    </tr>\n",
       "    <tr>\n",
       "      <th>4156</th>\n",
       "      <td>I think Charlotte Gainsbourg is one of the bes...</td>\n",
       "      <td>1</td>\n",
       "    </tr>\n",
       "    <tr>\n",
       "      <th>24767</th>\n",
       "      <td>Another Downey must-see! If you are an obsesse...</td>\n",
       "      <td>1</td>\n",
       "    </tr>\n",
       "    <tr>\n",
       "      <th>1216</th>\n",
       "      <td>When two writers make a screenplay of a horror...</td>\n",
       "      <td>1</td>\n",
       "    </tr>\n",
       "    <tr>\n",
       "      <th>9206</th>\n",
       "      <td>Eglimata (= Crimes) is a story about little cr...</td>\n",
       "      <td>1</td>\n",
       "    </tr>\n",
       "    <tr>\n",
       "      <th>7117</th>\n",
       "      <td>About a year ago I finally gave up on American...</td>\n",
       "      <td>1</td>\n",
       "    </tr>\n",
       "    <tr>\n",
       "      <th>2944</th>\n",
       "      <td>When I saw the elaborate DVD box for this and ...</td>\n",
       "      <td>1</td>\n",
       "    </tr>\n",
       "    <tr>\n",
       "      <th>14868</th>\n",
       "      <td>Last November, I had a chance to see this film...</td>\n",
       "      <td>1</td>\n",
       "    </tr>\n",
       "    <tr>\n",
       "      <th>2999</th>\n",
       "      <td>Great movie -I loved it. Great editing and use...</td>\n",
       "      <td>1</td>\n",
       "    </tr>\n",
       "    <tr>\n",
       "      <th>24074</th>\n",
       "      <td>Enchanted April is a tone poem, an impressioni...</td>\n",
       "      <td>1</td>\n",
       "    </tr>\n",
       "  </tbody>\n",
       "</table>\n",
       "<p>12500 rows × 2 columns</p>\n",
       "</div>"
      ],
      "text/plain": [
       "                                                  review  sentiment\n",
       "14149  For a movie that gets no respect there sure ar...          1\n",
       "8946   Bizarre horror movie filled with famous faces ...          1\n",
       "22378  A solid, if unremarkable film. Matthau, as Ein...          1\n",
       "12162  It's a strange feeling to sit alone in a theat...          1\n",
       "4879   You probably all already know this by now, but...          1\n",
       "12710  I saw the movie with two grown children. Altho...          1\n",
       "24595  You're using the IMDb.<br /><br />You've given...          1\n",
       "308    This was a good film with a powerful message o...          1\n",
       "4343   Made after QUARTET was, TRIO continued the qua...          1\n",
       "18230  For a mature man, to admit that he shed a tear...          1\n",
       "7570   Aileen Gonsalves, my girlfriend, is in this fi...          1\n",
       "7825   Jonathan Demme's directorial debut for Roger C...          1\n",
       "11704  When I rented this movie to watch it, I knew t...          1\n",
       "19453  It's hard to say sometimes why exactly a film ...          1\n",
       "2808   Yes, this gets the full ten stars. It's plain ...          1\n",
       "16065  Hello. This movie is.......well.......okay. Ju...          1\n",
       "24827  This is a film that was very well done. I had ...          1\n",
       "14171  A typical romp through Cheech and Chong's real...          1\n",
       "18454  OK heres what I say: <br /><br />The movie was...          1\n",
       "15252  This is one of the first films I can remember,...          1\n",
       "20990  This film is worth seeing alone for Jared Harr...          1\n",
       "24653  I was 10 years old when this show was on TV. B...          1\n",
       "7448   Here's another movie that should be loaded int...          1\n",
       "3960   To all the reviewers on this page, I would hav...          1\n",
       "14517  A favourite of mine,this movie tells of two fe...          1\n",
       "10057  As Most Off You Might off Seen Star Wars: Retu...          1\n",
       "11947  I thought this movie was LOL funny. It's a fun...          1\n",
       "8729   Hood of the Living Dead had a lot to live up t...          1\n",
       "15826  Pierce Brosnan the newest but no longer James ...          1\n",
       "3861   This is one of those Film's/pilot that if you ...          1\n",
       "...                                                  ...        ...\n",
       "23472  The Rookie is based on the true story of a 40+...          1\n",
       "5252   When I learned of Sir Alec Guinness' death, th...          1\n",
       "24091  Beautiful and touching movie. Rich colors, gre...          1\n",
       "12173  Absolutely wonderful drama and Ros is top notc...          1\n",
       "9968   Actually this movie has silly moments, both in...          1\n",
       "16182  Before Tuscan Sky, I saw Diane Lane's tender p...          1\n",
       "3226   Return To The 3th Chamber is the comedic seque...          1\n",
       "14811  I loved this excellent movie. Farrah Fawcett p...          1\n",
       "5968   \"Descent.\" Yeah. Boy... I haven't seen anythin...          1\n",
       "11522  FREDDY has gone from scary to funny,in this 6t...          1\n",
       "9134   I had no expectations; I'd never heard of Jami...          1\n",
       "13567  I think this movie had to be fun to make it, f...          1\n",
       "7439   I thought that this film was very enjoyable. I...          1\n",
       "3458   Sure this was a remake of a 70's film, but it ...          1\n",
       "22592  Eytan Fox did it again : move the viewer's hea...          1\n",
       "17621  It's highly stylized, but this movie shows tha...          1\n",
       "12281  Since I first saw Anchors Aweigh in 1945, view...          1\n",
       "18914  This is an very good movie. This is one that I...          1\n",
       "17597  I'm gonna tip the scales here a bit and say I ...          1\n",
       "18697  This was my first introduction to the world of...          1\n",
       "15963  I rented this some years ago, the video store ...          1\n",
       "4156   I think Charlotte Gainsbourg is one of the bes...          1\n",
       "24767  Another Downey must-see! If you are an obsesse...          1\n",
       "1216   When two writers make a screenplay of a horror...          1\n",
       "9206   Eglimata (= Crimes) is a story about little cr...          1\n",
       "7117   About a year ago I finally gave up on American...          1\n",
       "2944   When I saw the elaborate DVD box for this and ...          1\n",
       "14868  Last November, I had a chance to see this film...          1\n",
       "2999   Great movie -I loved it. Great editing and use...          1\n",
       "24074  Enchanted April is a tone poem, an impressioni...          1\n",
       "\n",
       "[12500 rows x 2 columns]"
      ]
     },
     "execution_count": 4,
     "metadata": {},
     "output_type": "execute_result"
    }
   ],
   "source": [
    "df_pos"
   ]
  },
  {
   "cell_type": "code",
   "execution_count": 5,
   "metadata": {},
   "outputs": [
    {
     "name": "stderr",
     "output_type": "stream",
     "text": [
      "/anaconda3/lib/python3.7/site-packages/pandas/core/generic.py:4405: SettingWithCopyWarning: \n",
      "A value is trying to be set on a copy of a slice from a DataFrame.\n",
      "Try using .loc[row_indexer,col_indexer] = value instead\n",
      "\n",
      "See the caveats in the documentation: http://pandas.pydata.org/pandas-docs/stable/indexing.html#indexing-view-versus-copy\n",
      "  self[name] = value\n"
     ]
    },
    {
     "data": {
      "text/html": [
       "<div>\n",
       "<style scoped>\n",
       "    .dataframe tbody tr th:only-of-type {\n",
       "        vertical-align: middle;\n",
       "    }\n",
       "\n",
       "    .dataframe tbody tr th {\n",
       "        vertical-align: top;\n",
       "    }\n",
       "\n",
       "    .dataframe thead th {\n",
       "        text-align: right;\n",
       "    }\n",
       "</style>\n",
       "<table border=\"1\" class=\"dataframe\">\n",
       "  <thead>\n",
       "    <tr style=\"text-align: right;\">\n",
       "      <th></th>\n",
       "      <th>review</th>\n",
       "      <th>sentiment</th>\n",
       "    </tr>\n",
       "  </thead>\n",
       "  <tbody>\n",
       "    <tr>\n",
       "      <th>14149</th>\n",
       "      <td>[for, a, movie, that, gets, no, respect, there...</td>\n",
       "      <td>1</td>\n",
       "    </tr>\n",
       "    <tr>\n",
       "      <th>8946</th>\n",
       "      <td>[bizarre, horror, movie, filled, with, famous,...</td>\n",
       "      <td>1</td>\n",
       "    </tr>\n",
       "    <tr>\n",
       "      <th>22378</th>\n",
       "      <td>[a, solid, if, unremarkable, film, matthau, as...</td>\n",
       "      <td>1</td>\n",
       "    </tr>\n",
       "    <tr>\n",
       "      <th>12162</th>\n",
       "      <td>[it, a, strange, feeling, to, sit, alone, in, ...</td>\n",
       "      <td>1</td>\n",
       "    </tr>\n",
       "    <tr>\n",
       "      <th>4879</th>\n",
       "      <td>[you, probably, all, already, know, this, by, ...</td>\n",
       "      <td>1</td>\n",
       "    </tr>\n",
       "  </tbody>\n",
       "</table>\n",
       "</div>"
      ],
      "text/plain": [
       "                                                  review  sentiment\n",
       "14149  [for, a, movie, that, gets, no, respect, there...          1\n",
       "8946   [bizarre, horror, movie, filled, with, famous,...          1\n",
       "22378  [a, solid, if, unremarkable, film, matthau, as...          1\n",
       "12162  [it, a, strange, feeling, to, sit, alone, in, ...          1\n",
       "4879   [you, probably, all, already, know, this, by, ...          1"
      ]
     },
     "execution_count": 5,
     "metadata": {},
     "output_type": "execute_result"
    }
   ],
   "source": [
    "df_pos.review = df_pos.review.str.replace('_',' ')\n",
    "df_pos.review = df_pos.review.str.replace('(</?(\\w+\\s(\\w+=(\\\"\\w+\\\"|\\'\\w+\\')\\s?)*|\\w+)?/?>)+', '')\n",
    "df_pos.review = df_pos.review.str.replace(\"\\'s\", \"\")\n",
    "df_pos.review = df_pos.review.str.replace(\"(\\{+|\\[+|\\(+|\\}+|\\]+|\\)+|\\-+|\\\"+|\\.+|\\,+)\", \"\")\n",
    "df_pos.review = df_pos.review.str.replace(\"\\d+\\/?\\d*\",\"\")\n",
    "df_pos.review = df_pos.review.str.lower().str.split(\" +\")\n",
    "\n",
    "df_pos.head()"
   ]
  },
  {
   "cell_type": "code",
   "execution_count": 6,
   "metadata": {},
   "outputs": [
    {
     "data": {
      "text/html": [
       "<div>\n",
       "<style scoped>\n",
       "    .dataframe tbody tr th:only-of-type {\n",
       "        vertical-align: middle;\n",
       "    }\n",
       "\n",
       "    .dataframe tbody tr th {\n",
       "        vertical-align: top;\n",
       "    }\n",
       "\n",
       "    .dataframe thead th {\n",
       "        text-align: right;\n",
       "    }\n",
       "</style>\n",
       "<table border=\"1\" class=\"dataframe\">\n",
       "  <thead>\n",
       "    <tr style=\"text-align: right;\">\n",
       "      <th></th>\n",
       "      <th>review</th>\n",
       "      <th>sentiment</th>\n",
       "    </tr>\n",
       "  </thead>\n",
       "  <tbody>\n",
       "    <tr>\n",
       "      <th>14149</th>\n",
       "      <td>[for, a, movie, that, gets, no, respect, there...</td>\n",
       "      <td>1</td>\n",
       "    </tr>\n",
       "    <tr>\n",
       "      <th>8946</th>\n",
       "      <td>[bizarre, horror, movie, filled, with, famous,...</td>\n",
       "      <td>1</td>\n",
       "    </tr>\n",
       "    <tr>\n",
       "      <th>22378</th>\n",
       "      <td>[a, solid, if, unremarkable, film, matthau, as...</td>\n",
       "      <td>1</td>\n",
       "    </tr>\n",
       "    <tr>\n",
       "      <th>12162</th>\n",
       "      <td>[it, a, strange, feeling, to, sit, alone, in, ...</td>\n",
       "      <td>1</td>\n",
       "    </tr>\n",
       "    <tr>\n",
       "      <th>4879</th>\n",
       "      <td>[you, probably, all, already, know, this, by, ...</td>\n",
       "      <td>1</td>\n",
       "    </tr>\n",
       "  </tbody>\n",
       "</table>\n",
       "</div>"
      ],
      "text/plain": [
       "                                                  review  sentiment\n",
       "14149  [for, a, movie, that, gets, no, respect, there...          1\n",
       "8946   [bizarre, horror, movie, filled, with, famous,...          1\n",
       "22378  [a, solid, if, unremarkable, film, matthau, as...          1\n",
       "12162  [it, a, strange, feeling, to, sit, alone, in, ...          1\n",
       "4879   [you, probably, all, already, know, this, by, ...          1"
      ]
     },
     "execution_count": 6,
     "metadata": {},
     "output_type": "execute_result"
    }
   ],
   "source": [
    "df_pos.head()"
   ]
  },
  {
   "cell_type": "code",
   "execution_count": 7,
   "metadata": {},
   "outputs": [
    {
     "name": "stdout",
     "output_type": "stream",
     "text": [
      "[nltk_data] Downloading package stopwords to\n",
      "[nltk_data]     /Users/supratikswain/nltk_data...\n",
      "[nltk_data]   Package stopwords is already up-to-date!\n"
     ]
    },
    {
     "data": {
      "text/plain": [
       "True"
      ]
     },
     "execution_count": 7,
     "metadata": {},
     "output_type": "execute_result"
    }
   ],
   "source": [
    "import nltk\n",
    "from nltk.corpus import stopwords\n",
    "nltk.download('stopwords')"
   ]
  },
  {
   "cell_type": "code",
   "execution_count": 8,
   "metadata": {},
   "outputs": [
    {
     "name": "stderr",
     "output_type": "stream",
     "text": [
      "/anaconda3/lib/python3.7/site-packages/ipykernel_launcher.py:1: SettingWithCopyWarning: \n",
      "A value is trying to be set on a copy of a slice from a DataFrame.\n",
      "Try using .loc[row_indexer,col_indexer] = value instead\n",
      "\n",
      "See the caveats in the documentation: http://pandas.pydata.org/pandas-docs/stable/indexing.html#indexing-view-versus-copy\n",
      "  \"\"\"Entry point for launching an IPython kernel.\n"
     ]
    },
    {
     "data": {
      "text/html": [
       "<div>\n",
       "<style scoped>\n",
       "    .dataframe tbody tr th:only-of-type {\n",
       "        vertical-align: middle;\n",
       "    }\n",
       "\n",
       "    .dataframe tbody tr th {\n",
       "        vertical-align: top;\n",
       "    }\n",
       "\n",
       "    .dataframe thead th {\n",
       "        text-align: right;\n",
       "    }\n",
       "</style>\n",
       "<table border=\"1\" class=\"dataframe\">\n",
       "  <thead>\n",
       "    <tr style=\"text-align: right;\">\n",
       "      <th></th>\n",
       "      <th>review</th>\n",
       "      <th>sentiment</th>\n",
       "    </tr>\n",
       "  </thead>\n",
       "  <tbody>\n",
       "    <tr>\n",
       "      <th>14149</th>\n",
       "      <td>[movie, gets, respect, sure, lot, memorable, q...</td>\n",
       "      <td>1</td>\n",
       "    </tr>\n",
       "    <tr>\n",
       "      <th>8946</th>\n",
       "      <td>[bizarre, horror, movie, filled, famous, faces...</td>\n",
       "      <td>1</td>\n",
       "    </tr>\n",
       "    <tr>\n",
       "      <th>22378</th>\n",
       "      <td>[solid, unremarkable, film, matthau, einstein,...</td>\n",
       "      <td>1</td>\n",
       "    </tr>\n",
       "    <tr>\n",
       "      <th>12162</th>\n",
       "      <td>[strange, feeling, sit, alone, theater, occupi...</td>\n",
       "      <td>1</td>\n",
       "    </tr>\n",
       "    <tr>\n",
       "      <th>4879</th>\n",
       "      <td>[probably, already, know, additional, episodes...</td>\n",
       "      <td>1</td>\n",
       "    </tr>\n",
       "  </tbody>\n",
       "</table>\n",
       "</div>"
      ],
      "text/plain": [
       "                                                  review  sentiment\n",
       "14149  [movie, gets, respect, sure, lot, memorable, q...          1\n",
       "8946   [bizarre, horror, movie, filled, famous, faces...          1\n",
       "22378  [solid, unremarkable, film, matthau, einstein,...          1\n",
       "12162  [strange, feeling, sit, alone, theater, occupi...          1\n",
       "4879   [probably, already, know, additional, episodes...          1"
      ]
     },
     "execution_count": 8,
     "metadata": {},
     "output_type": "execute_result"
    }
   ],
   "source": [
    "df_pos['review'] = df_pos['review'].apply(lambda x: [word for word in x if word not in set(stopwords.words('english'))])\n",
    "df_pos.head()"
   ]
  },
  {
   "cell_type": "code",
   "execution_count": 9,
   "metadata": {},
   "outputs": [
    {
     "name": "stderr",
     "output_type": "stream",
     "text": [
      "/anaconda3/lib/python3.7/site-packages/ipykernel_launcher.py:5: SettingWithCopyWarning: \n",
      "A value is trying to be set on a copy of a slice from a DataFrame.\n",
      "Try using .loc[row_indexer,col_indexer] = value instead\n",
      "\n",
      "See the caveats in the documentation: http://pandas.pydata.org/pandas-docs/stable/indexing.html#indexing-view-versus-copy\n",
      "  \"\"\"\n"
     ]
    },
    {
     "data": {
      "text/html": [
       "<div>\n",
       "<style scoped>\n",
       "    .dataframe tbody tr th:only-of-type {\n",
       "        vertical-align: middle;\n",
       "    }\n",
       "\n",
       "    .dataframe tbody tr th {\n",
       "        vertical-align: top;\n",
       "    }\n",
       "\n",
       "    .dataframe thead th {\n",
       "        text-align: right;\n",
       "    }\n",
       "</style>\n",
       "<table border=\"1\" class=\"dataframe\">\n",
       "  <thead>\n",
       "    <tr style=\"text-align: right;\">\n",
       "      <th></th>\n",
       "      <th>review</th>\n",
       "      <th>sentiment</th>\n",
       "    </tr>\n",
       "  </thead>\n",
       "  <tbody>\n",
       "    <tr>\n",
       "      <th>14149</th>\n",
       "      <td>movi get respect sure lot memor quot list gem ...</td>\n",
       "      <td>1</td>\n",
       "    </tr>\n",
       "    <tr>\n",
       "      <th>8946</th>\n",
       "      <td>bizarr horror movi fill famou face stolen cris...</td>\n",
       "      <td>1</td>\n",
       "    </tr>\n",
       "    <tr>\n",
       "      <th>22378</th>\n",
       "      <td>solid unremark film matthau einstein wonder fa...</td>\n",
       "      <td>1</td>\n",
       "    </tr>\n",
       "    <tr>\n",
       "      <th>12162</th>\n",
       "      <td>strang feel sit alon theater occupi parent rol...</td>\n",
       "      <td>1</td>\n",
       "    </tr>\n",
       "    <tr>\n",
       "      <th>4879</th>\n",
       "      <td>probabl alreadi know addit episod never air vi...</td>\n",
       "      <td>1</td>\n",
       "    </tr>\n",
       "  </tbody>\n",
       "</table>\n",
       "</div>"
      ],
      "text/plain": [
       "                                                  review  sentiment\n",
       "14149  movi get respect sure lot memor quot list gem ...          1\n",
       "8946   bizarr horror movi fill famou face stolen cris...          1\n",
       "22378  solid unremark film matthau einstein wonder fa...          1\n",
       "12162  strang feel sit alon theater occupi parent rol...          1\n",
       "4879   probabl alreadi know addit episod never air vi...          1"
      ]
     },
     "execution_count": 9,
     "metadata": {},
     "output_type": "execute_result"
    }
   ],
   "source": [
    "from nltk.stem.porter import PorterStemmer\n",
    "\n",
    "ps = PorterStemmer()\n",
    "\n",
    "df_pos['review'] = df_pos['review'].apply(lambda x: ' '.join(ps.stem(word) for word in x))\n",
    "df_pos.head()"
   ]
  },
  {
   "cell_type": "code",
   "execution_count": 10,
   "metadata": {},
   "outputs": [
    {
     "data": {
      "text/html": [
       "<div>\n",
       "<style scoped>\n",
       "    .dataframe tbody tr th:only-of-type {\n",
       "        vertical-align: middle;\n",
       "    }\n",
       "\n",
       "    .dataframe tbody tr th {\n",
       "        vertical-align: top;\n",
       "    }\n",
       "\n",
       "    .dataframe thead th {\n",
       "        text-align: right;\n",
       "    }\n",
       "</style>\n",
       "<table border=\"1\" class=\"dataframe\">\n",
       "  <thead>\n",
       "    <tr style=\"text-align: right;\">\n",
       "      <th></th>\n",
       "      <th>frequency</th>\n",
       "    </tr>\n",
       "  </thead>\n",
       "  <tbody>\n",
       "    <tr>\n",
       "      <th>film</th>\n",
       "      <td>24385</td>\n",
       "    </tr>\n",
       "    <tr>\n",
       "      <th>movi</th>\n",
       "      <td>21350</td>\n",
       "    </tr>\n",
       "    <tr>\n",
       "      <th>like</th>\n",
       "      <td>10099</td>\n",
       "    </tr>\n",
       "    <tr>\n",
       "      <th>time</th>\n",
       "      <td>7867</td>\n",
       "    </tr>\n",
       "    <tr>\n",
       "      <th>good</th>\n",
       "      <td>7494</td>\n",
       "    </tr>\n",
       "  </tbody>\n",
       "</table>\n",
       "</div>"
      ],
      "text/plain": [
       "      frequency\n",
       "film      24385\n",
       "movi      21350\n",
       "like      10099\n",
       "time       7867\n",
       "good       7494"
      ]
     },
     "execution_count": 10,
     "metadata": {},
     "output_type": "execute_result"
    }
   ],
   "source": [
    "from sklearn.feature_extraction.text import CountVectorizer\n",
    "vect = CountVectorizer(stop_words = 'english', analyzer='word')\n",
    "vect_pos = vect.fit_transform(df_pos.review)\n",
    "\n",
    "# Visualising the high frequency words for positive set\n",
    "df_freq = pd.DataFrame(vect_pos.sum(axis=0), columns=list(vect.get_feature_names()), index = ['frequency']).T\n",
    "df_freq.nlargest(5, 'frequency')"
   ]
  },
  {
   "cell_type": "code",
   "execution_count": 11,
   "metadata": {},
   "outputs": [
    {
     "data": {
      "text/html": [
       "<div>\n",
       "<style scoped>\n",
       "    .dataframe tbody tr th:only-of-type {\n",
       "        vertical-align: middle;\n",
       "    }\n",
       "\n",
       "    .dataframe tbody tr th {\n",
       "        vertical-align: top;\n",
       "    }\n",
       "\n",
       "    .dataframe thead th {\n",
       "        text-align: right;\n",
       "    }\n",
       "</style>\n",
       "<table border=\"1\" class=\"dataframe\">\n",
       "  <thead>\n",
       "    <tr style=\"text-align: right;\">\n",
       "      <th></th>\n",
       "      <th>frequency</th>\n",
       "    </tr>\n",
       "  </thead>\n",
       "  <tbody>\n",
       "    <tr>\n",
       "      <th>aaaaatchkah</th>\n",
       "      <td>1</td>\n",
       "    </tr>\n",
       "  </tbody>\n",
       "</table>\n",
       "</div>"
      ],
      "text/plain": [
       "             frequency\n",
       "aaaaatchkah          1"
      ]
     },
     "execution_count": 11,
     "metadata": {},
     "output_type": "execute_result"
    }
   ],
   "source": [
    "from sklearn.feature_extraction.text import CountVectorizer\n",
    "vect = CountVectorizer(stop_words = 'english', analyzer='word')\n",
    "vect_pos = vect.fit_transform(df_pos.review)\n",
    "\n",
    "# Visualising the high frequency words for positive set\n",
    "df_freq = pd.DataFrame(vect_pos.sum(axis=0), columns=list(vect.get_feature_names()), index = ['frequency']).T\n",
    "df_freq.nsmallest(1, 'frequency')"
   ]
  },
  {
   "cell_type": "code",
   "execution_count": 12,
   "metadata": {},
   "outputs": [
    {
     "name": "stderr",
     "output_type": "stream",
     "text": [
      "/anaconda3/lib/python3.7/site-packages/pandas/core/generic.py:4405: SettingWithCopyWarning: \n",
      "A value is trying to be set on a copy of a slice from a DataFrame.\n",
      "Try using .loc[row_indexer,col_indexer] = value instead\n",
      "\n",
      "See the caveats in the documentation: http://pandas.pydata.org/pandas-docs/stable/indexing.html#indexing-view-versus-copy\n",
      "  self[name] = value\n"
     ]
    },
    {
     "data": {
      "text/html": [
       "<div>\n",
       "<style scoped>\n",
       "    .dataframe tbody tr th:only-of-type {\n",
       "        vertical-align: middle;\n",
       "    }\n",
       "\n",
       "    .dataframe tbody tr th {\n",
       "        vertical-align: top;\n",
       "    }\n",
       "\n",
       "    .dataframe thead th {\n",
       "        text-align: right;\n",
       "    }\n",
       "</style>\n",
       "<table border=\"1\" class=\"dataframe\">\n",
       "  <thead>\n",
       "    <tr style=\"text-align: right;\">\n",
       "      <th></th>\n",
       "      <th>review</th>\n",
       "      <th>sentiment</th>\n",
       "    </tr>\n",
       "  </thead>\n",
       "  <tbody>\n",
       "    <tr>\n",
       "      <th>7386</th>\n",
       "      <td>[working, with, one, of, the, best, shakespear...</td>\n",
       "      <td>0</td>\n",
       "    </tr>\n",
       "    <tr>\n",
       "      <th>17863</th>\n",
       "      <td>[welltremors, i, the, original, started, off, ...</td>\n",
       "      <td>0</td>\n",
       "    </tr>\n",
       "    <tr>\n",
       "      <th>5460</th>\n",
       "      <td>[ouch!, this, one, was, a, bit, painful, to, s...</td>\n",
       "      <td>0</td>\n",
       "    </tr>\n",
       "    <tr>\n",
       "      <th>670</th>\n",
       "      <td>[i've, seen, some, crappy, movies, in, my, lif...</td>\n",
       "      <td>0</td>\n",
       "    </tr>\n",
       "    <tr>\n",
       "      <th>11874</th>\n",
       "      <td>[carriers, follows, the, exploits, of, two, gu...</td>\n",
       "      <td>0</td>\n",
       "    </tr>\n",
       "  </tbody>\n",
       "</table>\n",
       "</div>"
      ],
      "text/plain": [
       "                                                  review  sentiment\n",
       "7386   [working, with, one, of, the, best, shakespear...          0\n",
       "17863  [welltremors, i, the, original, started, off, ...          0\n",
       "5460   [ouch!, this, one, was, a, bit, painful, to, s...          0\n",
       "670    [i've, seen, some, crappy, movies, in, my, lif...          0\n",
       "11874  [carriers, follows, the, exploits, of, two, gu...          0"
      ]
     },
     "execution_count": 12,
     "metadata": {},
     "output_type": "execute_result"
    }
   ],
   "source": [
    "df_neg.review = df_neg.review.str.replace('_',' ')\n",
    "df_neg.review = df_neg.review.str.replace('(</?(\\w+\\s(\\w+=(\\\"\\w+\\\"|\\'\\w+\\')\\s?)*|\\w+)?/?>)+', '')\n",
    "df_neg.review = df_neg.review.str.replace(\"\\'s\", \"\")\n",
    "df_neg.review = df_neg.review.str.replace(\"(\\{+|\\[+|\\(+|\\}+|\\]+|\\)+|\\-+|\\\"+|\\.+|\\,+)\", \"\")\n",
    "df_neg.review = df_neg.review.str.replace(\"\\d+\\/?\\d*\",\"\")\n",
    "df_neg.review = df_neg.review.str.lower().str.split(\" +\")\n",
    "#df_neg.review = df_neg.review.str.replace(\"_\",\"\")\n",
    "df_neg.head()"
   ]
  },
  {
   "cell_type": "code",
   "execution_count": 13,
   "metadata": {},
   "outputs": [
    {
     "data": {
      "text/html": [
       "<div>\n",
       "<style scoped>\n",
       "    .dataframe tbody tr th:only-of-type {\n",
       "        vertical-align: middle;\n",
       "    }\n",
       "\n",
       "    .dataframe tbody tr th {\n",
       "        vertical-align: top;\n",
       "    }\n",
       "\n",
       "    .dataframe thead th {\n",
       "        text-align: right;\n",
       "    }\n",
       "</style>\n",
       "<table border=\"1\" class=\"dataframe\">\n",
       "  <thead>\n",
       "    <tr style=\"text-align: right;\">\n",
       "      <th></th>\n",
       "      <th>review</th>\n",
       "      <th>sentiment</th>\n",
       "    </tr>\n",
       "  </thead>\n",
       "  <tbody>\n",
       "    <tr>\n",
       "      <th>7386</th>\n",
       "      <td>[working, with, one, of, the, best, shakespear...</td>\n",
       "      <td>0</td>\n",
       "    </tr>\n",
       "    <tr>\n",
       "      <th>17863</th>\n",
       "      <td>[welltremors, i, the, original, started, off, ...</td>\n",
       "      <td>0</td>\n",
       "    </tr>\n",
       "    <tr>\n",
       "      <th>5460</th>\n",
       "      <td>[ouch!, this, one, was, a, bit, painful, to, s...</td>\n",
       "      <td>0</td>\n",
       "    </tr>\n",
       "    <tr>\n",
       "      <th>670</th>\n",
       "      <td>[i've, seen, some, crappy, movies, in, my, lif...</td>\n",
       "      <td>0</td>\n",
       "    </tr>\n",
       "    <tr>\n",
       "      <th>11874</th>\n",
       "      <td>[carriers, follows, the, exploits, of, two, gu...</td>\n",
       "      <td>0</td>\n",
       "    </tr>\n",
       "  </tbody>\n",
       "</table>\n",
       "</div>"
      ],
      "text/plain": [
       "                                                  review  sentiment\n",
       "7386   [working, with, one, of, the, best, shakespear...          0\n",
       "17863  [welltremors, i, the, original, started, off, ...          0\n",
       "5460   [ouch!, this, one, was, a, bit, painful, to, s...          0\n",
       "670    [i've, seen, some, crappy, movies, in, my, lif...          0\n",
       "11874  [carriers, follows, the, exploits, of, two, gu...          0"
      ]
     },
     "execution_count": 13,
     "metadata": {},
     "output_type": "execute_result"
    }
   ],
   "source": [
    "df_neg.head()"
   ]
  },
  {
   "cell_type": "code",
   "execution_count": 14,
   "metadata": {},
   "outputs": [
    {
     "name": "stderr",
     "output_type": "stream",
     "text": [
      "/anaconda3/lib/python3.7/site-packages/ipykernel_launcher.py:1: SettingWithCopyWarning: \n",
      "A value is trying to be set on a copy of a slice from a DataFrame.\n",
      "Try using .loc[row_indexer,col_indexer] = value instead\n",
      "\n",
      "See the caveats in the documentation: http://pandas.pydata.org/pandas-docs/stable/indexing.html#indexing-view-versus-copy\n",
      "  \"\"\"Entry point for launching an IPython kernel.\n"
     ]
    },
    {
     "data": {
      "text/html": [
       "<div>\n",
       "<style scoped>\n",
       "    .dataframe tbody tr th:only-of-type {\n",
       "        vertical-align: middle;\n",
       "    }\n",
       "\n",
       "    .dataframe tbody tr th {\n",
       "        vertical-align: top;\n",
       "    }\n",
       "\n",
       "    .dataframe thead th {\n",
       "        text-align: right;\n",
       "    }\n",
       "</style>\n",
       "<table border=\"1\" class=\"dataframe\">\n",
       "  <thead>\n",
       "    <tr style=\"text-align: right;\">\n",
       "      <th></th>\n",
       "      <th>review</th>\n",
       "      <th>sentiment</th>\n",
       "    </tr>\n",
       "  </thead>\n",
       "  <tbody>\n",
       "    <tr>\n",
       "      <th>7386</th>\n",
       "      <td>[working, one, best, shakespeare, sources, fil...</td>\n",
       "      <td>0</td>\n",
       "    </tr>\n",
       "    <tr>\n",
       "      <th>17863</th>\n",
       "      <td>[welltremors, original, started, found, movie,...</td>\n",
       "      <td>0</td>\n",
       "    </tr>\n",
       "    <tr>\n",
       "      <th>5460</th>\n",
       "      <td>[ouch!, one, bit, painful, sit, cute, amusing,...</td>\n",
       "      <td>0</td>\n",
       "    </tr>\n",
       "    <tr>\n",
       "      <th>670</th>\n",
       "      <td>[i've, seen, crappy, movies, life, one, must, ...</td>\n",
       "      <td>0</td>\n",
       "    </tr>\n",
       "    <tr>\n",
       "      <th>11874</th>\n",
       "      <td>[carriers, follows, exploits, two, guys, two, ...</td>\n",
       "      <td>0</td>\n",
       "    </tr>\n",
       "  </tbody>\n",
       "</table>\n",
       "</div>"
      ],
      "text/plain": [
       "                                                  review  sentiment\n",
       "7386   [working, one, best, shakespeare, sources, fil...          0\n",
       "17863  [welltremors, original, started, found, movie,...          0\n",
       "5460   [ouch!, one, bit, painful, sit, cute, amusing,...          0\n",
       "670    [i've, seen, crappy, movies, life, one, must, ...          0\n",
       "11874  [carriers, follows, exploits, two, guys, two, ...          0"
      ]
     },
     "execution_count": 14,
     "metadata": {},
     "output_type": "execute_result"
    }
   ],
   "source": [
    "df_neg['review'] = df_neg['review'].apply(lambda x: [word for word in x if word not in set(stopwords.words('english'))])\n",
    "df_neg.head()"
   ]
  },
  {
   "cell_type": "code",
   "execution_count": 15,
   "metadata": {},
   "outputs": [
    {
     "name": "stderr",
     "output_type": "stream",
     "text": [
      "/anaconda3/lib/python3.7/site-packages/ipykernel_launcher.py:5: SettingWithCopyWarning: \n",
      "A value is trying to be set on a copy of a slice from a DataFrame.\n",
      "Try using .loc[row_indexer,col_indexer] = value instead\n",
      "\n",
      "See the caveats in the documentation: http://pandas.pydata.org/pandas-docs/stable/indexing.html#indexing-view-versus-copy\n",
      "  \"\"\"\n"
     ]
    },
    {
     "data": {
      "text/html": [
       "<div>\n",
       "<style scoped>\n",
       "    .dataframe tbody tr th:only-of-type {\n",
       "        vertical-align: middle;\n",
       "    }\n",
       "\n",
       "    .dataframe tbody tr th {\n",
       "        vertical-align: top;\n",
       "    }\n",
       "\n",
       "    .dataframe thead th {\n",
       "        text-align: right;\n",
       "    }\n",
       "</style>\n",
       "<table border=\"1\" class=\"dataframe\">\n",
       "  <thead>\n",
       "    <tr style=\"text-align: right;\">\n",
       "      <th></th>\n",
       "      <th>review</th>\n",
       "      <th>sentiment</th>\n",
       "    </tr>\n",
       "  </thead>\n",
       "  <tbody>\n",
       "    <tr>\n",
       "      <th>7386</th>\n",
       "      <td>work one best shakespear sourc film manag cred...</td>\n",
       "      <td>0</td>\n",
       "    </tr>\n",
       "    <tr>\n",
       "      <th>17863</th>\n",
       "      <td>welltremor origin start found movi quit enjoy ...</td>\n",
       "      <td>0</td>\n",
       "    </tr>\n",
       "    <tr>\n",
       "      <th>5460</th>\n",
       "      <td>ouch! one bit pain sit cute amus premis goe he...</td>\n",
       "      <td>0</td>\n",
       "    </tr>\n",
       "    <tr>\n",
       "      <th>670</th>\n",
       "      <td>i'v seen crappi movi life one must among worst...</td>\n",
       "      <td>0</td>\n",
       "    </tr>\n",
       "    <tr>\n",
       "      <th>11874</th>\n",
       "      <td>carrier follow exploit two guy two gal stolen ...</td>\n",
       "      <td>0</td>\n",
       "    </tr>\n",
       "  </tbody>\n",
       "</table>\n",
       "</div>"
      ],
      "text/plain": [
       "                                                  review  sentiment\n",
       "7386   work one best shakespear sourc film manag cred...          0\n",
       "17863  welltremor origin start found movi quit enjoy ...          0\n",
       "5460   ouch! one bit pain sit cute amus premis goe he...          0\n",
       "670    i'v seen crappi movi life one must among worst...          0\n",
       "11874  carrier follow exploit two guy two gal stolen ...          0"
      ]
     },
     "execution_count": 15,
     "metadata": {},
     "output_type": "execute_result"
    }
   ],
   "source": [
    "from nltk.stem.porter import PorterStemmer\n",
    "\n",
    "ps = PorterStemmer()\n",
    "\n",
    "df_neg['review'] = df_neg['review'].apply(lambda x: ' '.join(ps.stem(word) for word in x))\n",
    "df_neg.head()"
   ]
  },
  {
   "cell_type": "code",
   "execution_count": 16,
   "metadata": {},
   "outputs": [
    {
     "data": {
      "text/html": [
       "<div>\n",
       "<style scoped>\n",
       "    .dataframe tbody tr th:only-of-type {\n",
       "        vertical-align: middle;\n",
       "    }\n",
       "\n",
       "    .dataframe tbody tr th {\n",
       "        vertical-align: top;\n",
       "    }\n",
       "\n",
       "    .dataframe thead th {\n",
       "        text-align: right;\n",
       "    }\n",
       "</style>\n",
       "<table border=\"1\" class=\"dataframe\">\n",
       "  <thead>\n",
       "    <tr style=\"text-align: right;\">\n",
       "      <th></th>\n",
       "      <th>frequency</th>\n",
       "    </tr>\n",
       "  </thead>\n",
       "  <tbody>\n",
       "    <tr>\n",
       "      <th>movi</th>\n",
       "      <td>27149</td>\n",
       "    </tr>\n",
       "    <tr>\n",
       "      <th>film</th>\n",
       "      <td>21890</td>\n",
       "    </tr>\n",
       "    <tr>\n",
       "      <th>like</th>\n",
       "      <td>11972</td>\n",
       "    </tr>\n",
       "    <tr>\n",
       "      <th>make</th>\n",
       "      <td>7832</td>\n",
       "    </tr>\n",
       "    <tr>\n",
       "      <th>good</th>\n",
       "      <td>7249</td>\n",
       "    </tr>\n",
       "  </tbody>\n",
       "</table>\n",
       "</div>"
      ],
      "text/plain": [
       "      frequency\n",
       "movi      27149\n",
       "film      21890\n",
       "like      11972\n",
       "make       7832\n",
       "good       7249"
      ]
     },
     "execution_count": 16,
     "metadata": {},
     "output_type": "execute_result"
    }
   ],
   "source": [
    "from sklearn.feature_extraction.text import CountVectorizer\n",
    "vect = CountVectorizer(stop_words = 'english', analyzer='word')\n",
    "vect_neg = vect.fit_transform(df_neg.review)\n",
    "\n",
    "# the high frequency words for negative set\n",
    "df_freq = pd.DataFrame(vect_neg.sum(axis=0), columns=list(vect.get_feature_names()), index = ['frequency']).T\n",
    "df_freq.nlargest(5, 'frequency')"
   ]
  },
  {
   "cell_type": "code",
   "execution_count": 17,
   "metadata": {},
   "outputs": [
    {
     "data": {
      "text/html": [
       "<div>\n",
       "<style scoped>\n",
       "    .dataframe tbody tr th:only-of-type {\n",
       "        vertical-align: middle;\n",
       "    }\n",
       "\n",
       "    .dataframe tbody tr th {\n",
       "        vertical-align: top;\n",
       "    }\n",
       "\n",
       "    .dataframe thead th {\n",
       "        text-align: right;\n",
       "    }\n",
       "</style>\n",
       "<table border=\"1\" class=\"dataframe\">\n",
       "  <thead>\n",
       "    <tr style=\"text-align: right;\">\n",
       "      <th></th>\n",
       "      <th>frequency</th>\n",
       "    </tr>\n",
       "  </thead>\n",
       "  <tbody>\n",
       "    <tr>\n",
       "      <th>aaaaaaah</th>\n",
       "      <td>1</td>\n",
       "    </tr>\n",
       "  </tbody>\n",
       "</table>\n",
       "</div>"
      ],
      "text/plain": [
       "          frequency\n",
       "aaaaaaah          1"
      ]
     },
     "execution_count": 17,
     "metadata": {},
     "output_type": "execute_result"
    }
   ],
   "source": [
    "from sklearn.feature_extraction.text import CountVectorizer\n",
    "vect = CountVectorizer(stop_words = 'english', analyzer='word')\n",
    "vect_neg = vect.fit_transform(df_neg.review)\n",
    "\n",
    "# the high frequency words for negative set\n",
    "df_freq = pd.DataFrame(vect_neg.sum(axis=0), columns=list(vect.get_feature_names()), index = ['frequency']).T\n",
    "df_freq.nsmallest(1, 'frequency')"
   ]
  },
  {
   "cell_type": "code",
   "execution_count": 18,
   "metadata": {},
   "outputs": [
    {
     "data": {
      "text/plain": [
       "['movi get respect sure lot memor quot list gem imagin movi joe piscopo actual funny! maureen stapleton scene stealer moroni charact absolut scream watch alan skipper hale jr polic sgt',\n",
       " \"bizarr horror movi fill famou face stolen cristina rain later tv flamingo road pretti somewhat unstabl model gummi smile slate pay attempt suicid guard gateway hell! scene rain model well captur mood music perfect deborah raffin charm cristina pal rain move creepi brooklyn height brownston inhabit blind priest top floor thing realli start cook neighbor includ fantast wick burgess meredith kinki coupl sylvia mile & beverli d'angelo diabol lot eli wallach great fun wili polic detect movi nearli crosspollin rosemari babi exorcistbut combination! base bestsel jeffrey konvitz sentinel entertainingli spooki full shock brought well director michael winner mount thought downbeat end skill *** ****\",\n",
       " 'solid unremark film matthau einstein wonder favorit part thing would make go way see wonder scene physicist play badmitton love sweater convers wait robbin retriev birdi',\n",
       " 'strang feel sit alon theater occupi parent rollick kid felt like instead movi ticket given nambla membershipbas upon thoma rockwel respect book eat fri worm start like children story: move new town new kid fifth grader billi forrest popular start anew make friend never easi especi prospect poindext adam erica feet giantfurth complic thing joe bulli freckl face sleeveless shirt daunt antagon kid death ring: crackerjack ring rumor kill punch immedi death ring unleash poison kill eight gradejo axi evil welcom billi smuggl hand slimi worm thermo discov billi play cool swear eat worm time throw joe face ewww! win billi reluctantli bet eat worm fri boil marin hot sauc squash spread peanut butter sandwich meal dub exot name like radioact slime delight kid final live dream microwav live organismif ever met know uncontrol hearti laugh felt like creep erupt toddler whine dilli dick hurt fri worm wonder disgust like grate farrelli brother film vomit delightfulwriter/director bob dolman also savvi storytel rais stake worm must consum pm addit billi hold dark secret: ultrasensit stomachdolman also keen sens perspect accuraci draw children insecur tendenc exagger mundan dilemmasif hyperbol movi way kid quandari see essenti war freedomfight freedomhat use pubesc boy pawn proxi war learn valuabl lesson uniti intern leader learn thing two global peacekeep fri wormsat end film comfort two chaperon mother behind look befuddl agre great movi great regist law databas',\n",
       " \"probabl alreadi know addit episod never air view abccom i'v watch lot televis year possibl favorit show ever crime beauti written act show cancel actor play laura whit carlo mae damian anya omg steven caseman incred natur role even kid great wonder show sad gone cours wonder reason cancel way i'll let believ ms moynahan pregnanc anyth perfect time slot market i'v watch episod abccom hope come dvd day thank read\",\n",
       " 'saw movi two grown children although clever shrek thought rather good movi theatr surround children spring break sound know children like parent also seem engag death appar death charact brought appropri gasp comment hope peopl realiz movi made kid success although like person like scrat!!',\n",
       " \"use imdbyou'v given hefti vote favourit filmsit someth enjoy doingand fifti second one world end anoth beginshow given ten? wonder give seven eight exactli could first film ever made better? record long still open shot great showmanship superb innov perfectli suit situat dog bike love touch within fifti secondsth word geniu often overusedthi geniu\",\n",
       " \"good film power messag love redempt love transform brother repercuss horribl diseas famili wellact welldirect flaw i'd say stori show typic suburban famili difficulti peopl cultur backgrounds? would love see movi cultur shown like real life nevertheless film soar term valu understand diseas bring someon closer maker love film brought tear eye\",\n",
       " \"made quartet trio continu qualiti earlier film version short stori maugham three stori verger mr knowital sanitorium first two comic verger like prolong joke one good payoff last seriou health issu involv author introduc film storiesjam hayter soon signatur role samuel pickwick hero verger hold small custodialtyp job church new vicar michael hordern intellectu snob hear hayter school fire hayter save money tell wife kathleen harrison fanci buy small news tobacco shop good eye store thrive soon whole chain store grandchild christen hordern latter amaz see prosper exverg payoff bank manag felix aylmer meet hayter diversifi invest i'll leav hear unintent iron coda meetingaccord maugham met man like max kelada nigel patrick cruis mr knowital kelada splashi friendli slightli overbear type middl east busi trip regard jewelri steamship stateroom mate mr grey ever quiet proper wilfr hydewhit somewhat silent disapprov max max like enliven thing soon heavili involv ship entertain point stori actual resembl part plot nonmaugham stori film china sea max make bet tell real piec jewelri fake insist piec jewelri spot real describ way max rise occasionsanitorium longest segment roland culver play ashenden fiction alterego maugham writer one time spi hitchcock secret agent use sanitorium coupl month health find remark crew peopl includ jean simmon frail beauti young woman finlay curri irasc scotsman john lauri second irasc scotsman war curri raymond huntley quiet patient show intern anger situat wife show michael renni young man seriou life threaten ill culver watch three stori among charact play conclus last deal simmon renni iron deepli movingit dandi followup earlier quartet well worth watch\",\n",
       " 'matur man admit shed tear film matur respons matur filmif one need admit perhap one could say life never view advent move us next level',\n",
       " 'aileen gonsalv girlfriend film play secretari main charact bank love scene roshan seth restaur inform websit >have state person interest film say think beauti movi move funni beauti film',\n",
       " 'jonathan demm directori debut roger corman legendari exploit outfit new world pictur rate highli one finest chicksinchain grindhous classic ever grace celluloid beauteou russ meyer starlet eric vixen beyond valley doll gavin give robust win perform brassi resili new fish best persever grimi hellish penitentiari alway fabul barbara steel offer delici wick portray mean crippl sexual frustrat warden erot dream slow steami stripteas front ladi inmat real dilli longtim favorit bmovi actress roberta arous unholi roller collin deliv hilari raunchi endear turn cheer forward foulmouth kleptomaniac felon tell gutbust dirti joke pinnochio lynda gold aka crystin sinclair tobe hooper eaten aliv curti harrington rubi make live film debut uninhibit wildcat crazi alic evercuddli cheryl rainbeaux smith love touch repris fragil frighten innoc role lemora: child tale supernatur although pictur deliv expect ampl amount coars languag nuditi rape violenc still mean typic crass sexist piec lurid mindless filth; movi effect explor mani way men cruelli exploit women strongli assert profeminist notion women overcom obstacl band togeth group brave face misogynist oppressor one mighti fight forc demm zesti confid direct come gloriou abund astut observ incident detail delight moment engagingli quirki human behavior furthermor tak fujimoto vibrant cinematographi john cale marvel dolor oddbal blue score % money excel patrick wright sheriff mack uproari aw cheaprubbermonstersuit creatur featur howler track moonbeast sidesplit bit jerki cop car stolen trio prison escape stop ga station use bathroom live rous immens enjoy cage heat qualifi absolut essenti view drivein movi fan',\n",
       " 'rent movi watch knew go mindbend movi instead thought disbelief realiti someon go get seriou beat know work kurt russel though remark role show emotionless soldier recommend movi boy want watch good action film',\n",
       " \"hard say sometim exactli film effect moment first came across stone boy someth told would great film spite seem unlik i'd ever opportun actual see one day look onlin catalogu local librari saw recent purchas dvd releas film i'm extrem glad cinematographi stun depth qualiti old vh copi could never replicateand speak cinematographi must singl far stun aspect film photograph pursu nearli exact visual style portray stone boy i'm firm believ fact great cinematograph almost singlehandedli carri film lot help extrem talent cast director understand perfectli stori need juan ruiz anchía behind camera make virtual everi scene someth beauti almost never say film would never even expect thing scene scene captur detail littl bit visual magic take breath awayth director christoph cain long interest career far gather film repres sometim catch director near begin career big budget loss focu real subtl magic found cain step back film let thing happen life ever much like earli john sayl film charact given space breath time talk side stori happen life cain display remark raw even outright pain understand human natur filmth act tie much stori togeth peopl talk exist film actual peopl held back fact play charact gina berriault script allow immens talent respect actor like wilford brimley robert duval glenn close freder forrest spend time simpli exist whether thing say minor deep signific come weight pure realitywhen look actor involv great soundtrack jame horner seem strang film nearli forgotten mayb much make stone boy time period made hangov feel pictur remind deepli childhood peopl talk term modern style music live rememb look imag underst dark know qualiti act overal result get skin person grew near era time north america see see saw world film like stone boy see world truli isfor feel pleas see:th black stallion never cri wolf tender merci testament place heart matewan high tide drive miss daisi secret garden secret roan inish wendi luci \",\n",
       " \"ye get full ten star plain day fill geniu univers sent trent harri young wonder strang man one day harri caught tape true misfit glori can't fake bad end tragedi young man altern end could written fellow stori two step trilog retel stori sean penn crispin glover role young men respect world expand upon strang contextu retel give us broader glimps grow weird vanilla america recommend anyon everyone!\",\n",
       " \"hello movi iswellokay kidding! awesome! block buster smash hit meant big hit world sister rockin' roller go ramones!!!! great movi me!\",\n",
       " 'film well done heard mix review product wait release! cheer director actor support cast gave eva mendez need take top everyon els state latter portion film rivet kati cassidi amaz job charact done lot work film made quit career ahead amaz perform complet enjoy film question valu life prioriti better person it! great messag lie within film releas enjoy!',\n",
       " 'typic romp cheech chong realiti includ drug sing drug car drive even drug pee wee alien gasolin laundri stand comedi surprisingli drug space coke !! coher plausibl smoke still incred funni without becom strang nice dream classic scene includ open scene get ga car drive work also funni cheech song mexicanamerican chong follow song anoth notabl scene welfar offic scene jone human nois machin polic academi seri old laugh man great follow smoke quit watchabl sober notcelluloid rehab',\n",
       " 'ok here say: movi excel huge nanci fan read origin book went read bewar villain give movi lower grade clue point wonder movie! love whole thing nanci current time still old fashion like books! peopl read book complain view nanci read think emma perfect nanci perfect found part movi spooki love excit car chase get away love clue solv mysteri myself! realli wonder suggest go see sinc peopl complain know noth good movi b nanci drew go see may oscar worthi realli good movi',\n",
       " 'one first film rememb mayb first one exactli beauti kind film introduc kid sweetli world violenc addict live littl bit babe casino constantin well mix carton get know truli rate kid think cool funni interest hate film spescial cartoncan good end ruin everi charact must happi end even sound weird im bitter personbut ok simpli goe heaven let wayal critic good movi someth new touch gotta go']"
      ]
     },
     "execution_count": 18,
     "metadata": {},
     "output_type": "execute_result"
    }
   ],
   "source": [
    "#from wordcloud import WordCloud\n",
    "#import matplotlib.pyplot as plt\n",
    "\n",
    "#imdb_list = df_freq[\"review\"][df_freq.label.isin(['pos'])].unique().tolist()\n",
    "imdb_list = df_pos[\"review\"].unique().tolist()\n",
    "imdb_list[:20]\n"
   ]
  },
  {
   "cell_type": "code",
   "execution_count": 19,
   "metadata": {},
   "outputs": [],
   "source": [
    "imdb_bow = \" \".join(imdb_list)"
   ]
  },
  {
   "cell_type": "code",
   "execution_count": 20,
   "metadata": {},
   "outputs": [
    {
     "data": {
      "image/png": "[encoded data removed]",
      "text/plain": [
       "<Figure size 1440x1440 with 1 Axes>"
      ]
     },
     "metadata": {
      "needs_background": "light"
     },
     "output_type": "display_data"
    }
   ],
   "source": [
    "from wordcloud import WordCloud\n",
    "import matplotlib.pyplot as plt\n",
    "import seaborn as sns\n",
    "%matplotlib inline\n",
    "imdb_wordcloud = WordCloud().generate(imdb_bow)\n",
    "\n",
    "# Show the created image of word cloud\n",
    "plt.figure(figsize=(20, 20))\n",
    "plt.imshow(imdb_wordcloud)\n",
    "plt.show()"
   ]
  },
  {
   "cell_type": "code",
   "execution_count": 21,
   "metadata": {},
   "outputs": [
    {
     "data": {
      "text/plain": [
       "['work one best shakespear sourc film manag credit sourc whilst still appeal wider audiencebranagh steal film fishburn nose talent cast good form',\n",
       " \"welltremor origin start found movi quit enjoy watch howev proceed make tremor ii iii trust movi start go downhil right finish first one mean ass blasters??? god capabl answer question god name would creat anoth one dumpster dive movie? tremor iv cannot consid bad movi fact cannot even consid epitom bad movi live attempt sit though notic eye start bleed hope profus littl girl ring would crawl tv kill realli think dress peopl stare movi though we'r wild west would make movi exact occurr better? honestli would never suggest buy movi mean cheaper way find thing burn well\",\n",
       " 'ouch! one bit pain sit cute amus premis goe hell matthew modin almost alway pedestrian annoy disappoint one deborah kara unger john nevil turn surprisingli decent perform alan bate jennif tilli among other play way top know way part written hard blame actor script director schlock go outrag charact ok gotta good materi make work run away scream movi possibl',\n",
       " \"i'v seen crappi movi life one must among worst defin bottom materi imo isw follow two coupl dodd billi bob thornton lonni earl natasha richardson darlen kirkendal patrick swayz roy charliz theron candi one car roadtrip renoappar lonni happi sexlif cheat wife candi despir tri babi roy meanwhil sure sperm ok get check doctornow read back dvd girlfriend blurt minutes: 'oh yeah gonna end pregnant husband can't baby' spot movi soooo predict well bore annoy meaningless offens terriblean exampl much movi stink two coupl set big car toward nevada stop policeoffic stop stopsign guy know final bribe two offic case beer scene pointless import even relev movi take minutes! talk talk talk without ever go somewherei still puke think end though appar roy problem father child mani time happen movi tri someth new! cheat wife ultim forgiv husband best friend affair live happili ever yuckbest scene movi right end coupl shot grand canyon keep camera minutes?on would expect cast although thornton realli tri can't realli blame writer shame you!\",\n",
       " 'carrier follow exploit two guy two gal stolen merced word road warrior hood hightail highway beach surfboard strap top car brian chri pine star trek drive girlfriend bobbi piper perabo coyot uglyha shotgun brian younger brother danni lou taylor pucci fanboy friendnot exactli girlfriendk emili vancamp ring occupi backseat quartet twentysometh charact live nightmar appar viral pandemicwhich codirector & coscenarist alex pastor david pastor tell us absolut noth aboutha devast america natur lack exposit shave least fifteen minut would slow cynic melodrama human degener crisi becom worst enemiesthi lethal viru give shingl bleed die everybodi run around wear white mask strap nose mouth thin rubber band initi foursom encount desper father frank christoph meloni runaway brideand cute littl daughter jodi kiernan shipka land lost block highway suv brian swerv around frank tri waylay process oil pan merced ruptur wind foot reluctantli hitch ride frank seal jodi rear suv wear mask nose mouth speckl blood frank heard doctor cure ail peopl hospit head sadli somebodi lie frank hospit physician give last coupl kid koolaid put miseri cure improv condit everybodi els town dead kate tri without success get dial tone everi phone frank realiz hope daughter let heroic quartet appropri suv take offinde carrier qualifi relentlessli depress movi effect pandem four sympathet peopl degener homicid murder protect reach countri club frolic around golf cours anoth four show suit mask pumpact shotgun incred protagonist manag escap without get shot brian scare almost fall water float corps eventu discov one becom infect later run ga brian block highway like frank outset danni tri stop pair older christian women drive car danni lie pregnant wife give birth need help brian throw caution wind blast away ladi automat pistol refus help brian catch slug leg passeng kill nocarri beer & pizza movi either laugh laugh humor virtual nonexist end minut movi hero turn villain care plight chri pine make quit impress funlov brian energet perform reason hang hokum wellknown actress piper perabo releg inconsequenti girlfriend role bobbi make tragic mistak show compass die littl girl pay aw price testament pine perform chang charact point put other essenti pine role give abil pull oneeighti happygolucki guy heartless guy two director spanish brother never let momentum flag sinc relief sight carrier sink predict irrévers cinematograph benoît debi fantast job widescreen lens unsavori road trip becom debi make look like dynam film asid lack happi end closur sens word carrier suffer horribl cynic scene german shepherd attack danni conjur suspens even could improv unfortun pastor brother scare either much tension suspens fadeout realli care happen anybodi',\n",
       " 'look forward see film long time see return paradis found gritti disappoint realist thing unpredict end think partli stolen return paradis mayb expect much posit side dane beckinsal pullman fantast role although didnt like dane charact first found annoy couldnt see anyth realist film could done much better exampl could emphasi prison condit sheer horror cheeri movi realist could also action tensionth best thing film tragic end couldnt predict time realli didnt care happen',\n",
       " 'effect without caus gener possibl real world world hollywood remak possibl requir haunt given comput treatment courtesi stclass cinematographerturnerdirector show promis jan de bont speed sinc produc string big budget garbag twister speed actor superflu movi type seem realiz liam neeson cathrin zetajon act like wish anywher film lili taylor make attempt add someth proceed whatev someth might unknown sinc script feel like half miss event happen good bad ghost show rhyme reason stori end unsatisfi nonev meant wrap previou minut inanityther realli even reason see effect sinc know anyth put screen watch effect servic good stori instead sake?',\n",
       " 'pictur start good intent bacon scientist test theori invis shue cute usual role fall apart typic hollywood thriller film soundstag special effect galor minu kind humour wit soul word wast time watch get audiocassett tape john delanci invis man instead also star leonard nimoy good hg well well serv unlik mess',\n",
       " \"chose see movi got good score imdb lot peopl either realli poor tast someon fix scoreeith way real disappoint movi exactli stupid far fetch titl would suggest realli reason give summari plot goes: felt like someon thinking: cool make movi snake plane? snake reason would go crazi start bite stuff?!? it! plot thin unorigin snake bad cgi make sens cut corner movi one right mind recommend anyone! act poor peopl unbeliev stereo typesto sum up: one worst movi i'v ever seen stay away!\",\n",
       " \"film worst ever seen titl film deceiv audienc think mayb hope stori line film laughabl best act poor cring titl 'zombi nation' impli hoard zombi fact six total cannot categoris horror film due introduct cheesi music zombi 'attack' zombi actual talk act like human be film differ make look like someth la roux video ever get chanc buy film burn copi\",\n",
       " \"felt brain dead i'll tell worst film ever bought ignor thought peter jackson film name perform terribl laughabl special effect stood test time look dire script promot kind tv movi stare middl distanc kind act cast look take lesson joey tribbiani one look stick plu never confus movi sat watch dream plot terribl frustrat set within minut avoid like plagu\",\n",
       " 'young scientist tri carri dead father work limb regenerationhi overbear mother convinc murder father monitor progress evil purposesa young doctor use reptilian dna extract larg creatur arm conveni rip minut laterh inject formula grow new murder armadmittedli special effect sever tie pretti good grotesquebut rest film awfulth sever arm behav like snake kill peoplebig dealth act mediocr climax silli ',\n",
       " \"inept bore incoher supernatur thriller colleg student cassi melissa sagemil constant victim hallucin nightmar car accid claim life boyfriend sean casey afflecki can't begin tell bad isnoth import ever happen ever sort actual entertain valu like cast particular film sadli unconvinc role good promot horror film joke scares? sens suspens good song ithow earth project get green light? writerdirector steve carpent discern vision talent sens worst conclus realli make whole movi pointlessth alleg killer cut watch minut pure tedium\",\n",
       " \"first time saw box cover movi stretch photographi thought guy friend 'scwarz' must like foot ft feet tall fault rate turn movi one cool night tucson second storydeck good cigar let roll time wife affair thing go hill need good divers bad movi wasi total enjoy bottl merlot might admit truli watch movi mani time alway make feel good!! 'tri hard' cool 'it close' hit mark action filmit frantic truli clueless frantic best best come slow speed chase scene wow!! never felt safer life warm happi thank conserv gasolin chase due less product summer monthsanywho direct 'uninspired' action fight sequenc need choreograph rechoreograph tighten sound deliveri hit kept go way 'locals' villag town rather 'off cue' also seem follow happen well would look even tare' camera len like deer head light kind thing smile smile deer feel bad 'columbu' bet good heart care spirit peopl america well countrymen howev baretta island letharg unbeliev even still like lot xwife hate love it! funni thing pretti discrimin come movi like even 'love' like franco movi ad addendum like kill hour truli fun watch straight videob movi 'bad' movi littl librari collect find check 'the big sweat' robert z' daryou know big guy 'tango & cash' 'the big sweat' bomb cop stori real plot discoveri act lame might well 'on crutches' end 'the big sweat' think ran money pictur cast set fire let burn credit good fun good baretta island' gave '' overal rate 'awful' awfulgood b' movi i'm wait sequel mayb like 'baretta reveng montazuma' franco take mexican vacat get sick water declar war water co 'baretta powder war' would stake larg drug lord countri chemic genesplic creat hybrid super bug insect would bred drop cocain field eat coke upon pass bug form chemic reaction turn coke pure powder sugar anoth sequel would get young peopl rescu excess sugar addict could get major tooth past compani endors partial fund project care product placement featur right?*\",\n",
       " \"find hard believ anyon would put movi context exorcist exorcist subtl creepi stigmata blunt clumsi way formulaicthi one visual beauti film i'v seen imageri make downward spiral patron exposit make unbear interest movi peak compar exorcist visit offici web site increas interest web site mani tale actual stigmata throughout histori howev scene scene movi obsess quest genuin becom comic first outright hard watch toward end began get suspici priest charg investig potenti miracl walk beauti parlor wouldb heroin cut hair evid flirt prieststh plot: woman without faith god begin receiv wound christ stigmata baffl upset ordeal priest sent straight vatican investig case franki possess satan vessel jesu christ?th miracl film final end\",\n",
       " \"actual saw china o'brien ii ever saw origin china o'brien say first incarn actual wors but: wors = funnier! funnier = better bad movi fan like great materi howev look sort meaning plot act abil moviemak skill best avoid best part film fight sequenc stutter fastforward hilari bad see laugh see mindless entertain whatev see free tv\",\n",
       " \"went school jeremi earl heard movi realli know theater recal name seen like one school special act ok great plot kind weak line pretti corni comment give movi eh borrow movi jeremi movi rental place one would walk past watch recommend anyon past middl school age i'v also notic mani time urban kid portray slang overus outdat mani time think that make charact unbeliev\",\n",
       " 'seen & plan see movi includ lindsayunless & poor littl rich girl straighten life year period begin recent arrest juli fact know anyon gone see lindsay recent movi rather imagin high water mark movi make career clean act recent public hinder movi make career aspir make movi time movi produc activ sought lindsay role upcom product lindsay probabl go audit & actual compet role reput current poison & quit possibl could neg effect box offic ticket sale movi insooooonow lindsay go deal wantedi go abl handl this?i wonder even jay leno want lindsay back tv show?al forego mere opinion insid inform',\n",
       " \"seen anyth bad sinc walk jame bond movi moonrak twenti year ago manag sit entireti one tilda swinton noth could save beasta cross pi orlando tron movi fail miser everi aspect moviemak charact cardboard unabl evok kind sympathi plot wholli unbeliev act except swinton amateur comput graphic wors tron timothi leari extrem annoy could go pointth good thing say film tilda swinton idea actress calib consent appear dud like regret nowdon't wast money time stinker noth worth see\",\n",
       " \"one would think film young person come term burgeon homosexu would anyth bore think product bottl sold cure insomnia ten time potent sleep aid market almost film maker *considered* make movi got lazi decid instead run seri random randomli bore imag gonowher scene throw coupl actual scene featur actual act pretend good light ins't import filmmak process wrap auspic arthous film exactli kind crappi product make easi lot tradit filmmak poopoo indi film movement keep gener public easili embrac indi filmsif interest film cover subject matter much better tune great short film avail logo websit rent get real better yet read stone butch blue whatev skip longwind piec dreck\"]"
      ]
     },
     "execution_count": 21,
     "metadata": {},
     "output_type": "execute_result"
    }
   ],
   "source": [
    "imdb_listneg = df_neg[\"review\"].unique().tolist()\n",
    "imdb_listneg[:20]"
   ]
  },
  {
   "cell_type": "code",
   "execution_count": 22,
   "metadata": {},
   "outputs": [],
   "source": [
    "imdb_bow_neg= \" \".join(imdb_listneg)"
   ]
  },
  {
   "cell_type": "code",
   "execution_count": 23,
   "metadata": {},
   "outputs": [
    {
     "data": {
      "image/png": "[encoded data removed]",
      "text/plain": [
       "<Figure size 1440x1440 with 1 Axes>"
      ]
     },
     "metadata": {
      "needs_background": "light"
     },
     "output_type": "display_data"
    }
   ],
   "source": [
    "imdb_wordcloudneg = WordCloud().generate(imdb_bow_neg)\n",
    "\n",
    " #Show the created image of word cloud\n",
    "plt.figure(figsize=(20, 20))\n",
    "plt.imshow(imdb_wordcloudneg)\n",
    "plt.show()"
   ]
  },
  {
   "cell_type": "code",
   "execution_count": 24,
   "metadata": {},
   "outputs": [
    {
     "data": {
      "image/png": "[encoded data removed]",
      "text/plain": [
       "<Figure size 432x288 with 1 Axes>"
      ]
     },
     "metadata": {
      "needs_background": "light"
     },
     "output_type": "display_data"
    }
   ],
   "source": [
    "hist_cv = CountVectorizer(stop_words = 'english', analyzer='word')\n",
    "hist_pos = hist_cv.fit_transform(df_pos.review)\n",
    "\n",
    "# Visualising the histogram for positive reviews only from train and dataset\n",
    "data_pos = hist_pos.sum(axis=0).tolist()\n",
    "binwidth = 2500\n",
    "plt.hist(data_pos[0], bins=range(min(data_pos[0]), max(data_pos[0]) + binwidth, binwidth), log=True)\n",
    "plt.title(\"Gaussian Histogram\")\n",
    "plt.xlabel(\"Frequency\")\n",
    "plt.ylabel(\"Number of instances\")\n",
    "plt.show()"
   ]
  },
  {
   "cell_type": "code",
   "execution_count": 25,
   "metadata": {},
   "outputs": [
    {
     "data": {
      "image/png": "[encoded data removed]",
      "text/plain": [
       "<Figure size 432x288 with 1 Axes>"
      ]
     },
     "metadata": {
      "needs_background": "light"
     },
     "output_type": "display_data"
    }
   ],
   "source": [
    "hist_cv = CountVectorizer(stop_words = 'english', analyzer='word')\n",
    "hist_neg = hist_cv.fit_transform(df_neg.review)\n",
    "\n",
    "# Visualising the histogram for positive reviews only from train and dataset\n",
    "data_neg = hist_neg.sum(axis=0).tolist()\n",
    "binwidth = 2500\n",
    "plt.hist(data_neg[0], bins=range(min(data_neg[0]), max(data_neg[0]) + binwidth, binwidth), log=True)\n",
    "plt.title(\"Gaussian Histogram\")\n",
    "plt.xlabel(\"Frequency\")\n",
    "plt.ylabel(\"Number of instances\")\n",
    "plt.show()"
   ]
  },
  {
   "cell_type": "code",
   "execution_count": 26,
   "metadata": {},
   "outputs": [
    {
     "data": {
      "image/png": "[encoded data removed]",
      "text/plain": [
       "<Figure size 432x288 with 1 Axes>"
      ]
     },
     "metadata": {
      "needs_background": "light"
     },
     "output_type": "display_data"
    }
   ],
   "source": [
    "#Zooming in on below 200 frequency words\n",
    "zoom_datapos = [f for f in data_pos[0] if f <= 200]\n",
    "binwidth = 5\n",
    "plt.hist(zoom_datapos, bins=range(min(zoom_datapos), max(zoom_datapos) + binwidth, binwidth), log=True)\n",
    "plt.title(\"Gaussian Histogram\")\n",
    "plt.xlabel(\"Frequency\")\n",
    "plt.ylabel(\"Number of instances\")\n",
    "plt.xlim(0, 300)\n",
    "plt.show()"
   ]
  },
  {
   "cell_type": "code",
   "execution_count": 27,
   "metadata": {},
   "outputs": [
    {
     "data": {
      "image/png": "[encoded data removed]",
      "text/plain": [
       "<Figure size 432x288 with 1 Axes>"
      ]
     },
     "metadata": {
      "needs_background": "light"
     },
     "output_type": "display_data"
    }
   ],
   "source": [
    "# Having a look at above 200 frequency words more closely\n",
    "\n",
    "zoom_datapos = [f for f in data_pos[0] if f > 200]\n",
    "binwidth = 2500\n",
    "plt.hist(zoom_datapos, bins=range(min(zoom_datapos), max(zoom_datapos) + binwidth, binwidth), log=True)\n",
    "plt.title(\"Gaussian Histogram\")\n",
    "plt.xlabel(\"Frequency\")\n",
    "plt.ylabel(\"Number of instances\")\n",
    "plt.show()"
   ]
  },
  {
   "cell_type": "code",
   "execution_count": 28,
   "metadata": {},
   "outputs": [
    {
     "data": {
      "image/png": "[encoded data removed]",
      "text/plain": [
       "<Figure size 432x288 with 1 Axes>"
      ]
     },
     "metadata": {
      "needs_background": "light"
     },
     "output_type": "display_data"
    }
   ],
   "source": [
    "#Zooming in on below 200 frequency words for negative\n",
    "zoom_dataneg = [f for f in data_neg[0] if f <= 200]\n",
    "binwidth = 5\n",
    "plt.hist(zoom_dataneg, bins=range(min(zoom_dataneg), max(zoom_dataneg) + binwidth, binwidth), log=True)\n",
    "plt.title(\"Gaussian Histogram\")\n",
    "plt.xlabel(\"Frequency\")\n",
    "plt.ylabel(\"Number of instances\")\n",
    "plt.xlim(0, 300)\n",
    "plt.show()"
   ]
  },
  {
   "cell_type": "code",
   "execution_count": 29,
   "metadata": {},
   "outputs": [
    {
     "data": {
      "image/png": "[encoded data removed]",
      "text/plain": [
       "<Figure size 432x288 with 1 Axes>"
      ]
     },
     "metadata": {
      "needs_background": "light"
     },
     "output_type": "display_data"
    }
   ],
   "source": [
    "# Having a look at above 200 frequency words more closely for negative\n",
    "\n",
    "zoom_dataneg = [f for f in data_neg[0] if f > 200]\n",
    "binwidth = 2500\n",
    "plt.hist(zoom_dataneg, bins=range(min(zoom_dataneg), max(zoom_dataneg) + binwidth, binwidth), log=True)\n",
    "plt.title(\"Gaussian Histogram\")\n",
    "plt.xlabel(\"Frequency\")\n",
    "plt.ylabel(\"Number of instances\")\n",
    "plt.show()"
   ]
  },
  {
   "cell_type": "code",
   "execution_count": 30,
   "metadata": {},
   "outputs": [
    {
     "data": {
      "text/plain": [
       "CountVectorizer(analyzer='word', binary=False, decode_error='strict',\n",
       "        dtype=<class 'numpy.int64'>, encoding='utf-8', input='content',\n",
       "        lowercase=True, max_df=1.0, max_features=None, min_df=1,\n",
       "        ngram_range=(1, 1), preprocessor=None, stop_words=None,\n",
       "        strip_accents=None, token_pattern='(?u)\\\\b\\\\w\\\\w+\\\\b',\n",
       "        tokenizer=None, vocabulary=None)"
      ]
     },
     "execution_count": 30,
     "metadata": {},
     "output_type": "execute_result"
    }
   ],
   "source": [
    " #import the vectorizer\n",
    "from sklearn.feature_extraction.text import CountVectorizer\n",
    "\n",
    "# create an instance\n",
    "count_vect = CountVectorizer()\n",
    "# fit the vectorizer with data\n",
    "count_vect.fit(df_pos.review)"
   ]
  },
  {
   "cell_type": "code",
   "execution_count": 31,
   "metadata": {},
   "outputs": [
    {
     "data": {
      "text/plain": [
       "(12500, 70088)"
      ]
     },
     "execution_count": 31,
     "metadata": {},
     "output_type": "execute_result"
    }
   ],
   "source": [
    "# convert text to vectors\n",
    "X = count_vect.transform(df_pos.review).toarray()\n",
    "X.shape"
   ]
  },
  {
   "cell_type": "code",
   "execution_count": 32,
   "metadata": {},
   "outputs": [
    {
     "data": {
      "text/plain": [
       "array([[0, 0, 0, ..., 0, 0, 0],\n",
       "       [0, 0, 0, ..., 0, 0, 0],\n",
       "       [0, 0, 0, ..., 0, 0, 0],\n",
       "       ...,\n",
       "       [0, 0, 0, ..., 0, 0, 0],\n",
       "       [0, 0, 0, ..., 0, 0, 0],\n",
       "       [0, 0, 0, ..., 0, 0, 0]])"
      ]
     },
     "execution_count": 32,
     "metadata": {},
     "output_type": "execute_result"
    }
   ],
   "source": [
    "X[:10]"
   ]
  },
  {
   "cell_type": "code",
   "execution_count": 33,
   "metadata": {},
   "outputs": [
    {
     "data": {
      "text/plain": [
       "array([0, 0, 0, 0, 0])"
      ]
     },
     "execution_count": 33,
     "metadata": {},
     "output_type": "execute_result"
    }
   ],
   "source": [
    "# encode the target strings\n",
    "from sklearn.preprocessing import LabelEncoder\n",
    "le = LabelEncoder()\n",
    "\n",
    "y = le.fit_transform(df_pos.sentiment)\n",
    "y[:5]"
   ]
  },
  {
   "cell_type": "code",
   "execution_count": 34,
   "metadata": {},
   "outputs": [
    {
     "data": {
      "text/plain": [
       "(12500,)"
      ]
     },
     "execution_count": 34,
     "metadata": {},
     "output_type": "execute_result"
    }
   ],
   "source": [
    "y.shape"
   ]
  },
  {
   "cell_type": "code",
   "execution_count": 35,
   "metadata": {},
   "outputs": [
    {
     "data": {
      "text/plain": [
       "array([1])"
      ]
     },
     "execution_count": 35,
     "metadata": {},
     "output_type": "execute_result"
    }
   ],
   "source": [
    "le.classes_"
   ]
  },
  {
   "cell_type": "code",
   "execution_count": 36,
   "metadata": {},
   "outputs": [],
   "source": [
    "# import Nauve bayes classifier\n",
    "from sklearn.naive_bayes import MultinomialNB"
   ]
  },
  {
   "cell_type": "code",
   "execution_count": 37,
   "metadata": {},
   "outputs": [
    {
     "data": {
      "text/plain": [
       "(9375, 70088)"
      ]
     },
     "execution_count": 37,
     "metadata": {},
     "output_type": "execute_result"
    }
   ],
   "source": [
    "# split the data\n",
    "from sklearn.model_selection import train_test_split\n",
    "X_train, X_test, y_train, y_test = train_test_split(X, y, test_size=0.25, random_state=0)\n",
    "X_train.shape"
   ]
  },
  {
   "cell_type": "code",
   "execution_count": 38,
   "metadata": {},
   "outputs": [
    {
     "data": {
      "text/plain": [
       "(3125, 70088)"
      ]
     },
     "execution_count": 38,
     "metadata": {},
     "output_type": "execute_result"
    }
   ],
   "source": [
    "X_test.shape"
   ]
  },
  {
   "cell_type": "code",
   "execution_count": 39,
   "metadata": {},
   "outputs": [],
   "source": [
    "# fit the classifier model\n",
    "clf = MultinomialNB()"
   ]
  },
  {
   "cell_type": "code",
   "execution_count": 40,
   "metadata": {},
   "outputs": [
    {
     "name": "stderr",
     "output_type": "stream",
     "text": [
      "/anaconda3/lib/python3.7/site-packages/sklearn/naive_bayes.py:461: RuntimeWarning: divide by zero encountered in log\n",
      "  self.class_log_prior_ = (np.log(self.class_count_) -\n"
     ]
    },
    {
     "data": {
      "text/plain": [
       "MultinomialNB(alpha=1.0, class_prior=None, fit_prior=True)"
      ]
     },
     "execution_count": 40,
     "metadata": {},
     "output_type": "execute_result"
    }
   ],
   "source": [
    "clf.fit(X_train, y_train)"
   ]
  },
  {
   "cell_type": "code",
   "execution_count": 41,
   "metadata": {},
   "outputs": [
    {
     "data": {
      "text/plain": [
       "(3125,)"
      ]
     },
     "execution_count": 41,
     "metadata": {},
     "output_type": "execute_result"
    }
   ],
   "source": [
    "# predict the outcome for testing data\n",
    "predictions = clf.predict(X_test)\n",
    "predictions.shape"
   ]
  },
  {
   "cell_type": "code",
   "execution_count": 42,
   "metadata": {},
   "outputs": [
    {
     "data": {
      "text/plain": [
       "1.0"
      ]
     },
     "execution_count": 42,
     "metadata": {},
     "output_type": "execute_result"
    }
   ],
   "source": [
    "# check the accuracy of the model\n",
    "from sklearn.metrics import accuracy_score\n",
    "accuracy = accuracy_score(y_test, predictions)\n",
    "accuracy"
   ]
  },
  {
   "cell_type": "code",
   "execution_count": 43,
   "metadata": {},
   "outputs": [],
   "source": [
    "import pandas as pd\n",
    "import os\n",
    "import numpy as np\n",
    "basepath = 'aclImdb'\n",
    "\n",
    "labels = {'pos': 1, 'neg': 0}\n",
    "#pbar = pyprind.ProgBar(50000)\n",
    "df = pd.DataFrame()\n",
    "\n",
    "s = 'test'\n",
    "for l in ('pos', 'neg'):\n",
    "    \n",
    "    path = os.path.join(basepath, s, l)\n",
    "    for file in os.listdir(path):\n",
    "        with open(os.path.join(path, file), 'r', encoding='utf-8') as infile:\n",
    "            txt = infile.read()\n",
    "        df = df.append([[txt, labels[l]]], ignore_index=True)\n",
    "        #pbar.update()\n",
    "\n",
    "df.columns = ['review', 'sentiment']\n",
    "\n",
    "np.random.seed(0)\n",
    "\n",
    "df = df.reindex(np.random.permutation(df.index))"
   ]
  },
  {
   "cell_type": "code",
   "execution_count": 44,
   "metadata": {},
   "outputs": [
    {
     "data": {
      "text/html": [
       "<div>\n",
       "<style scoped>\n",
       "    .dataframe tbody tr th:only-of-type {\n",
       "        vertical-align: middle;\n",
       "    }\n",
       "\n",
       "    .dataframe tbody tr th {\n",
       "        vertical-align: top;\n",
       "    }\n",
       "\n",
       "    .dataframe thead th {\n",
       "        text-align: right;\n",
       "    }\n",
       "</style>\n",
       "<table border=\"1\" class=\"dataframe\">\n",
       "  <thead>\n",
       "    <tr style=\"text-align: right;\">\n",
       "      <th></th>\n",
       "      <th>review</th>\n",
       "      <th>sentiment</th>\n",
       "    </tr>\n",
       "  </thead>\n",
       "  <tbody>\n",
       "    <tr>\n",
       "      <th>14149</th>\n",
       "      <td>Based on an actual story, John Boorman shows t...</td>\n",
       "      <td>1</td>\n",
       "    </tr>\n",
       "    <tr>\n",
       "      <th>8946</th>\n",
       "      <td>This is a gem. As a Film Four production - the...</td>\n",
       "      <td>1</td>\n",
       "    </tr>\n",
       "    <tr>\n",
       "      <th>22378</th>\n",
       "      <td>I really like this show. It has drama, romance...</td>\n",
       "      <td>1</td>\n",
       "    </tr>\n",
       "    <tr>\n",
       "      <th>12162</th>\n",
       "      <td>This is the best 3-D experience Disney has at ...</td>\n",
       "      <td>1</td>\n",
       "    </tr>\n",
       "    <tr>\n",
       "      <th>4879</th>\n",
       "      <td>Of the Korean movies I've seen, only three had...</td>\n",
       "      <td>1</td>\n",
       "    </tr>\n",
       "    <tr>\n",
       "      <th>12710</th>\n",
       "      <td>this movie is funny funny funny my favorite qu...</td>\n",
       "      <td>1</td>\n",
       "    </tr>\n",
       "    <tr>\n",
       "      <th>24595</th>\n",
       "      <td>I'm just starting to explore the so far wonder...</td>\n",
       "      <td>1</td>\n",
       "    </tr>\n",
       "    <tr>\n",
       "      <th>308</th>\n",
       "      <td>There is no need for me to repeat the synopsis...</td>\n",
       "      <td>1</td>\n",
       "    </tr>\n",
       "    <tr>\n",
       "      <th>4343</th>\n",
       "      <td>I got this movie with my BBC \"Jane Austen Coll...</td>\n",
       "      <td>1</td>\n",
       "    </tr>\n",
       "    <tr>\n",
       "      <th>18230</th>\n",
       "      <td>This was a great movie, I would compare it to ...</td>\n",
       "      <td>1</td>\n",
       "    </tr>\n",
       "    <tr>\n",
       "      <th>7570</th>\n",
       "      <td>I absolutely fell in love with this girls. let...</td>\n",
       "      <td>1</td>\n",
       "    </tr>\n",
       "    <tr>\n",
       "      <th>7825</th>\n",
       "      <td>It started off weird, the middle was weird, an...</td>\n",
       "      <td>1</td>\n",
       "    </tr>\n",
       "    <tr>\n",
       "      <th>11704</th>\n",
       "      <td>If you like silly comedies like Airplane you'l...</td>\n",
       "      <td>1</td>\n",
       "    </tr>\n",
       "    <tr>\n",
       "      <th>19453</th>\n",
       "      <td>The Italian Job requires daylight hours and no...</td>\n",
       "      <td>1</td>\n",
       "    </tr>\n",
       "    <tr>\n",
       "      <th>2808</th>\n",
       "      <td>I watch a lot of movies - DVD, features, and c...</td>\n",
       "      <td>1</td>\n",
       "    </tr>\n",
       "    <tr>\n",
       "      <th>16065</th>\n",
       "      <td>In the future, a disparate group of people asl...</td>\n",
       "      <td>1</td>\n",
       "    </tr>\n",
       "    <tr>\n",
       "      <th>24827</th>\n",
       "      <td>I am really amazed how little fame this film h...</td>\n",
       "      <td>1</td>\n",
       "    </tr>\n",
       "    <tr>\n",
       "      <th>14171</th>\n",
       "      <td>\"Tale of Two Sisters\" has to be one of the cre...</td>\n",
       "      <td>1</td>\n",
       "    </tr>\n",
       "    <tr>\n",
       "      <th>18454</th>\n",
       "      <td>Assy McGee is a show that you really have to b...</td>\n",
       "      <td>1</td>\n",
       "    </tr>\n",
       "    <tr>\n",
       "      <th>15252</th>\n",
       "      <td>This is a great horror movie. Great Plot. And ...</td>\n",
       "      <td>1</td>\n",
       "    </tr>\n",
       "    <tr>\n",
       "      <th>20990</th>\n",
       "      <td>When I first saw the Premiere Episode of Farsc...</td>\n",
       "      <td>1</td>\n",
       "    </tr>\n",
       "    <tr>\n",
       "      <th>24653</th>\n",
       "      <td>There were a lot of dumb teenage getting sex m...</td>\n",
       "      <td>1</td>\n",
       "    </tr>\n",
       "    <tr>\n",
       "      <th>7448</th>\n",
       "      <td>Damien O'Donnell has a good track record and i...</td>\n",
       "      <td>1</td>\n",
       "    </tr>\n",
       "    <tr>\n",
       "      <th>3960</th>\n",
       "      <td>THE ENGLISH PATIENT not only has it all (doome...</td>\n",
       "      <td>1</td>\n",
       "    </tr>\n",
       "    <tr>\n",
       "      <th>14517</th>\n",
       "      <td>cool flick. enjoyable to watch. hope to see mo...</td>\n",
       "      <td>1</td>\n",
       "    </tr>\n",
       "    <tr>\n",
       "      <th>10057</th>\n",
       "      <td>The movie was very good. I'm an avid mystery f...</td>\n",
       "      <td>1</td>\n",
       "    </tr>\n",
       "    <tr>\n",
       "      <th>11947</th>\n",
       "      <td>I have just finished watching this film for th...</td>\n",
       "      <td>1</td>\n",
       "    </tr>\n",
       "    <tr>\n",
       "      <th>8729</th>\n",
       "      <td>This movie from what I remember was such a gre...</td>\n",
       "      <td>1</td>\n",
       "    </tr>\n",
       "    <tr>\n",
       "      <th>15826</th>\n",
       "      <td>The movie takes place during the year 1940 and...</td>\n",
       "      <td>1</td>\n",
       "    </tr>\n",
       "    <tr>\n",
       "      <th>3861</th>\n",
       "      <td>The Cure is a fantastic film about a boy with ...</td>\n",
       "      <td>1</td>\n",
       "    </tr>\n",
       "    <tr>\n",
       "      <th>...</th>\n",
       "      <td>...</td>\n",
       "      <td>...</td>\n",
       "    </tr>\n",
       "    <tr>\n",
       "      <th>4851</th>\n",
       "      <td>Would someone explain to me when the Ghoulies ...</td>\n",
       "      <td>0</td>\n",
       "    </tr>\n",
       "    <tr>\n",
       "      <th>5072</th>\n",
       "      <td>I watched this movie at a party, we were very ...</td>\n",
       "      <td>0</td>\n",
       "    </tr>\n",
       "    <tr>\n",
       "      <th>2163</th>\n",
       "      <td>...the first? Killjoy 1. But here's the review...</td>\n",
       "      <td>0</td>\n",
       "    </tr>\n",
       "    <tr>\n",
       "      <th>6036</th>\n",
       "      <td>It´s long time that I and my wife didn´t see s...</td>\n",
       "      <td>0</td>\n",
       "    </tr>\n",
       "    <tr>\n",
       "      <th>6921</th>\n",
       "      <td>After seeing the TV commercials for this film ...</td>\n",
       "      <td>0</td>\n",
       "    </tr>\n",
       "    <tr>\n",
       "      <th>6216</th>\n",
       "      <td>Why is it that such \"romantic\" movies that nev...</td>\n",
       "      <td>0</td>\n",
       "    </tr>\n",
       "    <tr>\n",
       "      <th>16921</th>\n",
       "      <td>Well, here we have a zombie movie that perhaps...</td>\n",
       "      <td>0</td>\n",
       "    </tr>\n",
       "    <tr>\n",
       "      <th>2897</th>\n",
       "      <td>The horrific production doesn't qualify as a \"...</td>\n",
       "      <td>0</td>\n",
       "    </tr>\n",
       "    <tr>\n",
       "      <th>24152</th>\n",
       "      <td>I agree that this film is too pretentious, and...</td>\n",
       "      <td>0</td>\n",
       "    </tr>\n",
       "    <tr>\n",
       "      <th>18606</th>\n",
       "      <td>On one Thursday evening at 10:00pm, my local w...</td>\n",
       "      <td>0</td>\n",
       "    </tr>\n",
       "    <tr>\n",
       "      <th>10327</th>\n",
       "      <td>A dark, yet humorous tale involving a cop who ...</td>\n",
       "      <td>0</td>\n",
       "    </tr>\n",
       "    <tr>\n",
       "      <th>18983</th>\n",
       "      <td>Okay, I'm sorry to the cast and crew for this ...</td>\n",
       "      <td>0</td>\n",
       "    </tr>\n",
       "    <tr>\n",
       "      <th>17089</th>\n",
       "      <td>So many bad reviewers, it made me wonder, what...</td>\n",
       "      <td>0</td>\n",
       "    </tr>\n",
       "    <tr>\n",
       "      <th>14650</th>\n",
       "      <td>This show lasted for most of the 1980s, and ha...</td>\n",
       "      <td>0</td>\n",
       "    </tr>\n",
       "    <tr>\n",
       "      <th>19852</th>\n",
       "      <td>Movie based on Jacqueline Susann's best-sellin...</td>\n",
       "      <td>0</td>\n",
       "    </tr>\n",
       "    <tr>\n",
       "      <th>6744</th>\n",
       "      <td>Pauline Kael gave this movie a good review but...</td>\n",
       "      <td>0</td>\n",
       "    </tr>\n",
       "    <tr>\n",
       "      <th>15832</th>\n",
       "      <td>There must have been a lot of background info ...</td>\n",
       "      <td>0</td>\n",
       "    </tr>\n",
       "    <tr>\n",
       "      <th>15430</th>\n",
       "      <td>This is the worst movie I have seen to date. 8...</td>\n",
       "      <td>0</td>\n",
       "    </tr>\n",
       "    <tr>\n",
       "      <th>14935</th>\n",
       "      <td>My friends and I rented this movie mistaking i...</td>\n",
       "      <td>0</td>\n",
       "    </tr>\n",
       "    <tr>\n",
       "      <th>14116</th>\n",
       "      <td>I am a huge Randolph Scott fan, so I was surpr...</td>\n",
       "      <td>0</td>\n",
       "    </tr>\n",
       "    <tr>\n",
       "      <th>22258</th>\n",
       "      <td>Loving the Andersen fairy tails as a child and...</td>\n",
       "      <td>0</td>\n",
       "    </tr>\n",
       "    <tr>\n",
       "      <th>20757</th>\n",
       "      <td>Like a lot of people, I loved the original; \"A...</td>\n",
       "      <td>0</td>\n",
       "    </tr>\n",
       "    <tr>\n",
       "      <th>24275</th>\n",
       "      <td>I won't lie, I rented this film because it was...</td>\n",
       "      <td>0</td>\n",
       "    </tr>\n",
       "    <tr>\n",
       "      <th>9225</th>\n",
       "      <td>This movie should have been called \"The Eyes o...</td>\n",
       "      <td>0</td>\n",
       "    </tr>\n",
       "    <tr>\n",
       "      <th>21243</th>\n",
       "      <td>There are places for political commentary in f...</td>\n",
       "      <td>0</td>\n",
       "    </tr>\n",
       "    <tr>\n",
       "      <th>13123</th>\n",
       "      <td>With actors like Depardieu and Richard it is r...</td>\n",
       "      <td>0</td>\n",
       "    </tr>\n",
       "    <tr>\n",
       "      <th>19648</th>\n",
       "      <td>If you like to get a couple of fleeting glimps...</td>\n",
       "      <td>0</td>\n",
       "    </tr>\n",
       "    <tr>\n",
       "      <th>9845</th>\n",
       "      <td>When something can be anything you want it to ...</td>\n",
       "      <td>0</td>\n",
       "    </tr>\n",
       "    <tr>\n",
       "      <th>10799</th>\n",
       "      <td>I had heard good things about \"States of Grace...</td>\n",
       "      <td>0</td>\n",
       "    </tr>\n",
       "    <tr>\n",
       "      <th>2732</th>\n",
       "      <td>Well, this movie actually did have one redeemi...</td>\n",
       "      <td>0</td>\n",
       "    </tr>\n",
       "  </tbody>\n",
       "</table>\n",
       "<p>25000 rows × 2 columns</p>\n",
       "</div>"
      ],
      "text/plain": [
       "                                                  review  sentiment\n",
       "14149  Based on an actual story, John Boorman shows t...          1\n",
       "8946   This is a gem. As a Film Four production - the...          1\n",
       "22378  I really like this show. It has drama, romance...          1\n",
       "12162  This is the best 3-D experience Disney has at ...          1\n",
       "4879   Of the Korean movies I've seen, only three had...          1\n",
       "12710  this movie is funny funny funny my favorite qu...          1\n",
       "24595  I'm just starting to explore the so far wonder...          1\n",
       "308    There is no need for me to repeat the synopsis...          1\n",
       "4343   I got this movie with my BBC \"Jane Austen Coll...          1\n",
       "18230  This was a great movie, I would compare it to ...          1\n",
       "7570   I absolutely fell in love with this girls. let...          1\n",
       "7825   It started off weird, the middle was weird, an...          1\n",
       "11704  If you like silly comedies like Airplane you'l...          1\n",
       "19453  The Italian Job requires daylight hours and no...          1\n",
       "2808   I watch a lot of movies - DVD, features, and c...          1\n",
       "16065  In the future, a disparate group of people asl...          1\n",
       "24827  I am really amazed how little fame this film h...          1\n",
       "14171  \"Tale of Two Sisters\" has to be one of the cre...          1\n",
       "18454  Assy McGee is a show that you really have to b...          1\n",
       "15252  This is a great horror movie. Great Plot. And ...          1\n",
       "20990  When I first saw the Premiere Episode of Farsc...          1\n",
       "24653  There were a lot of dumb teenage getting sex m...          1\n",
       "7448   Damien O'Donnell has a good track record and i...          1\n",
       "3960   THE ENGLISH PATIENT not only has it all (doome...          1\n",
       "14517  cool flick. enjoyable to watch. hope to see mo...          1\n",
       "10057  The movie was very good. I'm an avid mystery f...          1\n",
       "11947  I have just finished watching this film for th...          1\n",
       "8729   This movie from what I remember was such a gre...          1\n",
       "15826  The movie takes place during the year 1940 and...          1\n",
       "3861   The Cure is a fantastic film about a boy with ...          1\n",
       "...                                                  ...        ...\n",
       "4851   Would someone explain to me when the Ghoulies ...          0\n",
       "5072   I watched this movie at a party, we were very ...          0\n",
       "2163   ...the first? Killjoy 1. But here's the review...          0\n",
       "6036   It´s long time that I and my wife didn´t see s...          0\n",
       "6921   After seeing the TV commercials for this film ...          0\n",
       "6216   Why is it that such \"romantic\" movies that nev...          0\n",
       "16921  Well, here we have a zombie movie that perhaps...          0\n",
       "2897   The horrific production doesn't qualify as a \"...          0\n",
       "24152  I agree that this film is too pretentious, and...          0\n",
       "18606  On one Thursday evening at 10:00pm, my local w...          0\n",
       "10327  A dark, yet humorous tale involving a cop who ...          0\n",
       "18983  Okay, I'm sorry to the cast and crew for this ...          0\n",
       "17089  So many bad reviewers, it made me wonder, what...          0\n",
       "14650  This show lasted for most of the 1980s, and ha...          0\n",
       "19852  Movie based on Jacqueline Susann's best-sellin...          0\n",
       "6744   Pauline Kael gave this movie a good review but...          0\n",
       "15832  There must have been a lot of background info ...          0\n",
       "15430  This is the worst movie I have seen to date. 8...          0\n",
       "14935  My friends and I rented this movie mistaking i...          0\n",
       "14116  I am a huge Randolph Scott fan, so I was surpr...          0\n",
       "22258  Loving the Andersen fairy tails as a child and...          0\n",
       "20757  Like a lot of people, I loved the original; \"A...          0\n",
       "24275  I won't lie, I rented this film because it was...          0\n",
       "9225   This movie should have been called \"The Eyes o...          0\n",
       "21243  There are places for political commentary in f...          0\n",
       "13123  With actors like Depardieu and Richard it is r...          0\n",
       "19648  If you like to get a couple of fleeting glimps...          0\n",
       "9845   When something can be anything you want it to ...          0\n",
       "10799  I had heard good things about \"States of Grace...          0\n",
       "2732   Well, this movie actually did have one redeemi...          0\n",
       "\n",
       "[25000 rows x 2 columns]"
      ]
     },
     "execution_count": 44,
     "metadata": {},
     "output_type": "execute_result"
    }
   ],
   "source": [
    "df\n",
    "#testdf_neg= df[df['sentiment']==0]\n",
    "#testdf_pos = df[df['sentiment']==1]\n"
   ]
  },
  {
   "cell_type": "code",
   "execution_count": 45,
   "metadata": {},
   "outputs": [
    {
     "data": {
      "text/html": [
       "<div>\n",
       "<style scoped>\n",
       "    .dataframe tbody tr th:only-of-type {\n",
       "        vertical-align: middle;\n",
       "    }\n",
       "\n",
       "    .dataframe tbody tr th {\n",
       "        vertical-align: top;\n",
       "    }\n",
       "\n",
       "    .dataframe thead th {\n",
       "        text-align: right;\n",
       "    }\n",
       "</style>\n",
       "<table border=\"1\" class=\"dataframe\">\n",
       "  <thead>\n",
       "    <tr style=\"text-align: right;\">\n",
       "      <th></th>\n",
       "      <th>review</th>\n",
       "      <th>sentiment</th>\n",
       "    </tr>\n",
       "  </thead>\n",
       "  <tbody>\n",
       "    <tr>\n",
       "      <th>14149</th>\n",
       "      <td>[based, on, an, actual, story, john, boorman, ...</td>\n",
       "      <td>1</td>\n",
       "    </tr>\n",
       "    <tr>\n",
       "      <th>8946</th>\n",
       "      <td>[this, is, a, gem, as, a, film, four, producti...</td>\n",
       "      <td>1</td>\n",
       "    </tr>\n",
       "    <tr>\n",
       "      <th>22378</th>\n",
       "      <td>[i, really, like, this, show, it, has, drama, ...</td>\n",
       "      <td>1</td>\n",
       "    </tr>\n",
       "    <tr>\n",
       "      <th>12162</th>\n",
       "      <td>[this, is, the, best, d, experience, disney, h...</td>\n",
       "      <td>1</td>\n",
       "    </tr>\n",
       "    <tr>\n",
       "      <th>4879</th>\n",
       "      <td>[of, the, korean, movies, i've, seen, only, th...</td>\n",
       "      <td>1</td>\n",
       "    </tr>\n",
       "  </tbody>\n",
       "</table>\n",
       "</div>"
      ],
      "text/plain": [
       "                                                  review  sentiment\n",
       "14149  [based, on, an, actual, story, john, boorman, ...          1\n",
       "8946   [this, is, a, gem, as, a, film, four, producti...          1\n",
       "22378  [i, really, like, this, show, it, has, drama, ...          1\n",
       "12162  [this, is, the, best, d, experience, disney, h...          1\n",
       "4879   [of, the, korean, movies, i've, seen, only, th...          1"
      ]
     },
     "execution_count": 45,
     "metadata": {},
     "output_type": "execute_result"
    }
   ],
   "source": [
    "df.review = df.review.str.replace('_',' ')\n",
    "df.review = df.review.str.replace('(</?(\\w+\\s(\\w+=(\\\"\\w+\\\"|\\'\\w+\\')\\s?)*|\\w+)?/?>)+', '')\n",
    "df.review = df.review.str.replace(\"\\'s\", \"\")\n",
    "df.review = df.review.str.replace(\"(\\{+|\\[+|\\(+|\\}+|\\]+|\\)+|\\-+|\\\"+|\\.+|\\,+)\", \"\")\n",
    "df.review = df.review.str.replace(\"\\d+\\/?\\d*\",\"\")\n",
    "df.review = df.review.str.lower().str.split(\" +\")\n",
    "#df.review = df.review.str.replace(\"_\",\"\")\n",
    "df.head()"
   ]
  },
  {
   "cell_type": "code",
   "execution_count": 46,
   "metadata": {},
   "outputs": [
    {
     "data": {
      "text/html": [
       "<div>\n",
       "<style scoped>\n",
       "    .dataframe tbody tr th:only-of-type {\n",
       "        vertical-align: middle;\n",
       "    }\n",
       "\n",
       "    .dataframe tbody tr th {\n",
       "        vertical-align: top;\n",
       "    }\n",
       "\n",
       "    .dataframe thead th {\n",
       "        text-align: right;\n",
       "    }\n",
       "</style>\n",
       "<table border=\"1\" class=\"dataframe\">\n",
       "  <thead>\n",
       "    <tr style=\"text-align: right;\">\n",
       "      <th></th>\n",
       "      <th>review</th>\n",
       "      <th>sentiment</th>\n",
       "    </tr>\n",
       "  </thead>\n",
       "  <tbody>\n",
       "    <tr>\n",
       "      <th>14149</th>\n",
       "      <td>[based, actual, story, john, boorman, shows, s...</td>\n",
       "      <td>1</td>\n",
       "    </tr>\n",
       "    <tr>\n",
       "      <th>8946</th>\n",
       "      <td>[gem, film, four, production, anticipated, qua...</td>\n",
       "      <td>1</td>\n",
       "    </tr>\n",
       "    <tr>\n",
       "      <th>22378</th>\n",
       "      <td>[really, like, show, drama, romance, comedy, r...</td>\n",
       "      <td>1</td>\n",
       "    </tr>\n",
       "    <tr>\n",
       "      <th>12162</th>\n",
       "      <td>[best, experience, disney, themeparks, certain...</td>\n",
       "      <td>1</td>\n",
       "    </tr>\n",
       "    <tr>\n",
       "      <th>4879</th>\n",
       "      <td>[korean, movies, i've, seen, three, really, st...</td>\n",
       "      <td>1</td>\n",
       "    </tr>\n",
       "  </tbody>\n",
       "</table>\n",
       "</div>"
      ],
      "text/plain": [
       "                                                  review  sentiment\n",
       "14149  [based, actual, story, john, boorman, shows, s...          1\n",
       "8946   [gem, film, four, production, anticipated, qua...          1\n",
       "22378  [really, like, show, drama, romance, comedy, r...          1\n",
       "12162  [best, experience, disney, themeparks, certain...          1\n",
       "4879   [korean, movies, i've, seen, three, really, st...          1"
      ]
     },
     "execution_count": 46,
     "metadata": {},
     "output_type": "execute_result"
    }
   ],
   "source": [
    "df['review'] = df['review'].apply(lambda x: [word for word in x if word not in set(stopwords.words('english'))])\n",
    "df.head()"
   ]
  },
  {
   "cell_type": "code",
   "execution_count": 47,
   "metadata": {},
   "outputs": [
    {
     "data": {
      "text/html": [
       "<div>\n",
       "<style scoped>\n",
       "    .dataframe tbody tr th:only-of-type {\n",
       "        vertical-align: middle;\n",
       "    }\n",
       "\n",
       "    .dataframe tbody tr th {\n",
       "        vertical-align: top;\n",
       "    }\n",
       "\n",
       "    .dataframe thead th {\n",
       "        text-align: right;\n",
       "    }\n",
       "</style>\n",
       "<table border=\"1\" class=\"dataframe\">\n",
       "  <thead>\n",
       "    <tr style=\"text-align: right;\">\n",
       "      <th></th>\n",
       "      <th>review</th>\n",
       "      <th>sentiment</th>\n",
       "    </tr>\n",
       "  </thead>\n",
       "  <tbody>\n",
       "    <tr>\n",
       "      <th>14149</th>\n",
       "      <td>base actual stori john boorman show struggl am...</td>\n",
       "      <td>1</td>\n",
       "    </tr>\n",
       "    <tr>\n",
       "      <th>8946</th>\n",
       "      <td>gem film four product anticip qualiti inde del...</td>\n",
       "      <td>1</td>\n",
       "    </tr>\n",
       "    <tr>\n",
       "      <th>22378</th>\n",
       "      <td>realli like show drama romanc comedi roll one ...</td>\n",
       "      <td>1</td>\n",
       "    </tr>\n",
       "    <tr>\n",
       "      <th>12162</th>\n",
       "      <td>best experi disney themepark certainli better ...</td>\n",
       "      <td>1</td>\n",
       "    </tr>\n",
       "    <tr>\n",
       "      <th>4879</th>\n",
       "      <td>korean movi i'v seen three realli stuck first ...</td>\n",
       "      <td>1</td>\n",
       "    </tr>\n",
       "  </tbody>\n",
       "</table>\n",
       "</div>"
      ],
      "text/plain": [
       "                                                  review  sentiment\n",
       "14149  base actual stori john boorman show struggl am...          1\n",
       "8946   gem film four product anticip qualiti inde del...          1\n",
       "22378  realli like show drama romanc comedi roll one ...          1\n",
       "12162  best experi disney themepark certainli better ...          1\n",
       "4879   korean movi i'v seen three realli stuck first ...          1"
      ]
     },
     "execution_count": 47,
     "metadata": {},
     "output_type": "execute_result"
    }
   ],
   "source": [
    "from nltk.stem.porter import PorterStemmer\n",
    "\n",
    "ps = PorterStemmer()\n",
    "\n",
    "df['review'] = df['review'].apply(lambda x: ' '.join(ps.stem(word) for word in x))\n",
    "df.head()"
   ]
  },
  {
   "cell_type": "code",
   "execution_count": 48,
   "metadata": {},
   "outputs": [
    {
     "data": {
      "text/plain": [
       "['base actual stori john boorman show struggl american doctor whose husband son murder continu plagu loss holiday burma sister seem like good idea get away passport stolen rangoon could leav countri sister forc stay back could get id paper american embassi fill day could fli took trip countrysid tour guid tri find someth stone statu noth stir stone suddenli hell broke loos caught polit revolt look like escap safe board train saw tour guid get beaten shot split second decid jump move train tri rescu thought continu life danger woman demonstr spontan selfless chariti risk life save anoth patricia arquett beauti look at; beauti heart unforgett stori taught suffer one promis life alway keep',\n",
       " 'gem film four product anticip qualiti inde deliv shot great style remind errol morri film well arrang simpli grip long yet horrifi point excruci know someth bad happen one guess lack particip person interview compel see bit like car accid slow motion stori span conceiv aspect unlik documentari tri refrain show grimmer side stori also deal guilt peopl left behind wonder stop time took hour get melancholi grip see verywel made documentari',\n",
       " 'realli like show drama romanc comedi roll one marri mother identifi lorelei rori experi show watch mostli repeat famili channel late uptod go think femal would like show male know men would enjoy it! realli like hour long half hour th hour seem fli watch it! give chanc never seen show! think lorelei luke favorit charact show though mainli way one anoth could see someth take long see guess say? happi viewing!',\n",
       " 'best experi disney themepark certainli better origin acidtrip film place leagu better honey shrunk audienc far fun bare squeak muppetvis movi disneymgm even beat origin movi experi captain eo film reliv disney greatest music hit aladdin littl mermaid other brought smile face throughout entir show total kidfriendli movi unlik honey effect spectacular muppetvis',\n",
       " \"korean movi i'v seen three realli stuck first excel horror tale two sister second third fourth park chan wook movi name oldboy sympathi ladi vengeanc thirst park kinda remind quentin tarantino irrever toward convent movi shock gratuit sens like show us expect see typic situat go radic societi moral like incest libidin bloodsuck yet devout priest also quit artisticallyinclin regard cinematographi movi among gorgeou i'v seenthirst said priest repress conscienceless woman fall horror drama even comedi park disarm audienc mani inappropri yet humor situat might best work yet sinc two movi i'v seen lack humor element would'v made palat repeat view\",\n",
       " 'movi funni funni funni favorit quot movi think saw half nake indian room last night respons hallucin indian room anoth hell talk hell talk ever admit hospit like one prepar write spoti would say opinion three funni charact film funni three funniest even though line get start crackpot patient heheh one keep secret fast pace',\n",
       " \"i'm start explor far wonder world monsieur ozon i'v seen film far last one row hit fact lone women action singl nonlon femal charact bring heavi impact surroundingsthi film probabl one four impact goodth gay theme almost standard part background ozon film grab accent although look charact might watch feel objectsveri nice fleet truli like summer romanc relax thought mind give food soul\",\n",
       " 'need repeat synopsi render glenn black white rendit even power portray bleak countri villag life time deep measur friendship shown babett toward two elderli sister touch heart string support cast excel perform superb would fair singl one charact sinc entir stori depend cast whole cannot put finger exactli rate movi highli sinc profession critic; individu viewer may may agre rate sinc enjoy type movi alway eye behold',\n",
       " \"got movi bbc jane austen collect dvd old bbc adapt like first complet differ other lack thought one qualiti enjoy austen movies: cheer common sens nightmar scene mr richard appar sew finger togeth especi upsettingi still like watch fingersew scene love hear mr r say dreamili sew acquaintancetor gown movi current austen favorit i'v watch time far act mind incred way notic good act find look whatev i'm sew though finger togeth hope boondoggl whatev order watch charact deliv line turn express cast postur make word come aliv make good act far i'm concernedwel watch almost everi part northang abbey almost actor play role charisma peter firth amaz mr tilney perfect blend bathian fop real masculin hero sure end whether catherin money love touch welsh? accent mr mr richard charming: combin behavior especi mr richards' high voic lend counterpoint wit wisdom make real gener tilney hardheart father may possibl murder fascin captain tilney grin rake clearli enjoy moneygrub sister brother whose name can't current rememb two perfectli smart smarmyth reason love adapt romant jane austen adapt know one austen weak point well far concerned: even though novel love stori hard feel hero heroin realli love end they'r realli love point? adapt i'v seen earli olivier/garson one pretti coldfish kiss end kiss like sex movi realli necessari heartfelt kiss end end kiss northang doozyth overthetop approach costum music light work well far i'm concern script extrem clever way educ gothic romanc highlif bath cathi normal countri upbring etc well done usual bbc product also like part littl black page cartwheel marchioness think entir appropri clever expositori devicesom peopl object version opposit jane austen intend northang abbey meant make fun gothic romanc promot think meant put mysteri udolpho etc make point need distinguish realiti fiction point made mr tilney chide catherin mother room besid gener tilney villain albeit prosaic one point meant made sure\",\n",
       " 'great movi would compar movi game get end flick cant move brain remov shaken stir put back head dont plan anyth movi need time think happeneddont come movi expect matrix style multi million spent special effect movi special effect come actor keep involv suck dont let go entir durat movi great act great plot enjoy film cant say enough also origin plot plenti twist idea would never thought end abrupt leav hang wonder real? realli end? good end say bad leav wonder littl frazzledgreat movi like action like good plot dont get bathroom break movi come back lost like mind game that exactli nutshel',\n",
       " 'absolut fell love girl let tell something: romania sixth seri run bunt everi day usa tv check internet download line rest world believ deep show becom know absolut everyth look internet rori car middl name stuff like that: rori also leigh lorelay victoria understand boyfriend like tri tri make see wonder without success understand let obses gilmor girl ador realli hope someon see give tri : regret',\n",
       " 'start weird middl weird end weird realli realli like modern day version homer odyessi realli irrelev interest stori cast clooney great applaud take adverter role unlik anyth done ever lot surpris star holli hunter someth differ tonight watch realli differ unexpect flick',\n",
       " \"like silli comedi like airplan love movie! definit style airplan scari movi fun film! strangest cast charact movi michael jackson evan marriott joyc giraurd stuart pankin charli schlater eric robert special effect hokey think they'r suppos sinc silli comedi appar two version film one blockbust one offici website: misscastawaycom one websit appear preview releas version sign director fun behind scene materi film neverland michael jackson well movi film say pg rate fun box\",\n",
       " 'italian job requir daylight hour experi requir great matine good afternoon movi plot good actual play plot simpl requir thought process car chase explos simpl purpos defeat bad guy play edward norton norton seem content portray exact charact previou film score mark wahlberg charliz theron deserv better script warning: seen trailer seen movi look entertain inexpens price need italian job',\n",
       " \"watch lot movi dvd featur classic name night watch jericho mile wife order internet said rememb high school stay year somewhat reluctantli sat daughter & son rivet open sequenc end titl rememb origin kid idea movi believ favorit scene? bar none peter strauss passion bang fist say i'd again! advoc violenc defens crime evok intens believ itwhen fellow cell mate gave food support effort dri eye housesomeon pleas make movi like one unbelievable!!\",\n",
       " 'futur dispar group peopl asleep aboard commerci spaceship forc improvis surviv spaceship crashland remot barren planet alreadi one problem one passeng intens crimin richard riddick vin diesel first topbil role; howev soon prey upon strang speci predat thrive dark rare solar eclips soon take placewhil script movi ultim routin side decent act especi wellmad technic locat work photographi design product well creatur design impress origin stimul sciencefict / horror pictur ever made far still provid good entertain diesel particularli good get skin intimid charact entir predict howev get point for**spoiler**hav polit correct end typefilm locat desol coober pedi area queensland australiaa sequel sort work',\n",
       " \"realli amaz littl fame film think distribut compani etcdon't idiot look good fun take movi nice movi pass hour music greatit well girl boy what much stori movi pulp fiction they?? nice cute give good time girl also good look make whole movi even enjoyablewhi gave ? well stori could littl convinc middl point start see event littl less reliabl small spoiler: babi cri father goe tri relax talk small cri hyster cri sec father goe babi sleep excus exactli make calm sleep abl leav room second ignor kind small pick film docudrama fun overlook\",\n",
       " \"tale two sister one creepiest film i'v seen recent end actual supernatur element despit one led expect throughout film stori seem two sister upon return father home sort absenc later reveal stay mental institut forc deal seemingli schizophren possibl bipolar stepmoth lash younger girl mood strike cheer tell prepar special dinner anoth time presenc yet unexplain later reveal younger sister dead exist troubl mind older sister unabl save stepmoth callou enough let die much specif strang famili reveal film definit leav viewer creepi feel nag hint confus definit light viewing; watch one realli want think seen hell puzzler\",\n",
       " \"assi mcgee show realli certain age appreci otherwis like miss refer cop film simpli think run gag walk rectum think brainless infantil poop humor? go watch stallon film 'cobra' see mean show actual subtl humor say lot show air adult swim show walk assal standard genr cliché place made movi like dirt harri cobra great ripe parodi sanchez assi partner per genr levelhead constantli apolog partner homicid behavior polic chief cours firebreath hard case live scream want badg desk first thing tomorrow morning! overthetop sometim complet nonsens manner 'renegad cop' film parodi suit subject matter well instanc break bu robberi one crimin stop ask assi hey go asshole!? titl charact snap oneliner: i'm go shoot highli recommend anybodi love action movi actual view enough understand humor\",\n",
       " 'great horror movi great plot person fear midget defin love evil midget! must see horror fan final lower budget movi decent effect great cast! highli recommend']"
      ]
     },
     "execution_count": 48,
     "metadata": {},
     "output_type": "execute_result"
    }
   ],
   "source": [
    "df_list = df[\"review\"].unique().tolist()\n",
    "df_list[:20]\n"
   ]
  },
  {
   "cell_type": "code",
   "execution_count": 49,
   "metadata": {},
   "outputs": [],
   "source": [
    "df_bow= \" \".join(df_list)"
   ]
  },
  {
   "cell_type": "code",
   "execution_count": 50,
   "metadata": {},
   "outputs": [
    {
     "data": {
      "text/plain": [
       "CountVectorizer(analyzer='word', binary=False, decode_error='strict',\n",
       "        dtype=<class 'numpy.int64'>, encoding='utf-8', input='content',\n",
       "        lowercase=True, max_df=1.0, max_features=None, min_df=1,\n",
       "        ngram_range=(1, 1), preprocessor=None, stop_words=None,\n",
       "        strip_accents=None, token_pattern='(?u)\\\\b\\\\w\\\\w+\\\\b',\n",
       "        tokenizer=None, vocabulary=None)"
      ]
     },
     "execution_count": 50,
     "metadata": {},
     "output_type": "execute_result"
    }
   ],
   "source": [
    " #import the vectorizer\n",
    "from sklearn.feature_extraction.text import CountVectorizer\n",
    "\n",
    "# create an instance\n",
    "count_vect = CountVectorizer()\n",
    "# fit the vectorizer with data\n",
    "count_vect.fit(df.review)"
   ]
  },
  {
   "cell_type": "code",
   "execution_count": 51,
   "metadata": {},
   "outputs": [
    {
     "data": {
      "text/plain": [
       "(25000, 107626)"
      ]
     },
     "execution_count": 51,
     "metadata": {},
     "output_type": "execute_result"
    }
   ],
   "source": [
    "# convert text to vectors\n",
    "X = count_vect.transform(df.review).toarray()\n",
    "X.shape"
   ]
  },
  {
   "cell_type": "code",
   "execution_count": 52,
   "metadata": {},
   "outputs": [
    {
     "data": {
      "text/plain": [
       "array([[0, 0, 0, ..., 0, 0, 0],\n",
       "       [0, 0, 0, ..., 0, 0, 0],\n",
       "       [0, 0, 0, ..., 0, 0, 0],\n",
       "       ...,\n",
       "       [0, 0, 0, ..., 0, 0, 0],\n",
       "       [0, 0, 0, ..., 0, 0, 0],\n",
       "       [0, 0, 0, ..., 0, 0, 0]])"
      ]
     },
     "execution_count": 52,
     "metadata": {},
     "output_type": "execute_result"
    }
   ],
   "source": [
    "X[:10]"
   ]
  },
  {
   "cell_type": "code",
   "execution_count": 53,
   "metadata": {},
   "outputs": [
    {
     "data": {
      "text/plain": [
       "array([1, 1, 1, 1, 1])"
      ]
     },
     "execution_count": 53,
     "metadata": {},
     "output_type": "execute_result"
    }
   ],
   "source": [
    "# encode the target strings\n",
    "from sklearn.preprocessing import LabelEncoder\n",
    "le = LabelEncoder()\n",
    "\n",
    "y = le.fit_transform(df.sentiment)\n",
    "y[:5]"
   ]
  },
  {
   "cell_type": "code",
   "execution_count": 54,
   "metadata": {},
   "outputs": [
    {
     "data": {
      "text/plain": [
       "(25000,)"
      ]
     },
     "execution_count": 54,
     "metadata": {},
     "output_type": "execute_result"
    }
   ],
   "source": [
    "y.shape"
   ]
  },
  {
   "cell_type": "code",
   "execution_count": 55,
   "metadata": {},
   "outputs": [
    {
     "data": {
      "text/plain": [
       "array([0, 1])"
      ]
     },
     "execution_count": 55,
     "metadata": {},
     "output_type": "execute_result"
    }
   ],
   "source": [
    "le.classes_"
   ]
  },
  {
   "cell_type": "code",
   "execution_count": 56,
   "metadata": {},
   "outputs": [],
   "source": [
    "# import Nauve bayes classifier\n",
    "from sklearn.naive_bayes import MultinomialNB"
   ]
  },
  {
   "cell_type": "code",
   "execution_count": 57,
   "metadata": {},
   "outputs": [
    {
     "data": {
      "text/plain": [
       "(18750, 107626)"
      ]
     },
     "execution_count": 57,
     "metadata": {},
     "output_type": "execute_result"
    }
   ],
   "source": [
    "# split the data\n",
    "from sklearn.model_selection import train_test_split\n",
    "X_train, X_test, y_train, y_test = train_test_split(X, y, test_size=0.25, random_state=0)\n",
    "X_train.shape"
   ]
  },
  {
   "cell_type": "code",
   "execution_count": 58,
   "metadata": {},
   "outputs": [
    {
     "data": {
      "text/plain": [
       "(6250, 107626)"
      ]
     },
     "execution_count": 58,
     "metadata": {},
     "output_type": "execute_result"
    }
   ],
   "source": [
    "X_test.shape"
   ]
  },
  {
   "cell_type": "code",
   "execution_count": 59,
   "metadata": {},
   "outputs": [],
   "source": [
    "# fit the classifier model\n",
    "clf = MultinomialNB()"
   ]
  },
  {
   "cell_type": "code",
   "execution_count": 60,
   "metadata": {},
   "outputs": [
    {
     "data": {
      "text/plain": [
       "MultinomialNB(alpha=1.0, class_prior=None, fit_prior=True)"
      ]
     },
     "execution_count": 60,
     "metadata": {},
     "output_type": "execute_result"
    }
   ],
   "source": [
    "clf.fit(X_train, y_train)"
   ]
  },
  {
   "cell_type": "code",
   "execution_count": 61,
   "metadata": {},
   "outputs": [
    {
     "data": {
      "text/plain": [
       "(6250,)"
      ]
     },
     "execution_count": 61,
     "metadata": {},
     "output_type": "execute_result"
    }
   ],
   "source": [
    "# predict the outcome for testing data\n",
    "predictions = clf.predict(X_test)\n",
    "predictions.shape"
   ]
  },
  {
   "cell_type": "code",
   "execution_count": 62,
   "metadata": {},
   "outputs": [
    {
     "data": {
      "text/plain": [
       "0.86176"
      ]
     },
     "execution_count": 62,
     "metadata": {},
     "output_type": "execute_result"
    }
   ],
   "source": [
    "# check the accuracy of the model\n",
    "from sklearn.metrics import accuracy_score\n",
    "accuracy = accuracy_score(y_test, predictions)\n",
    "accuracy"
   ]
  },
  {
   "cell_type": "code",
   "execution_count": 70,
   "metadata": {},
   "outputs": [
    {
     "name": "stdout",
     "output_type": "stream",
     "text": [
      "Top terms per cluster:\n",
      "Cluster 0:\n",
      " movi\n",
      " like\n",
      " watch\n",
      " bad\n",
      " good\n",
      " realli\n",
      " time\n",
      " make\n",
      " film\n",
      " think\n",
      "Cluster 1:\n",
      " film\n",
      " movi\n",
      " like\n",
      " charact\n",
      " time\n",
      " good\n",
      " stori\n",
      " make\n",
      " watch\n",
      " love\n"
     ]
    }
   ],
   "source": [
    "#Unsupervised Learning- Kmeans clustering\n",
    "\n",
    "# Vectorizing dataset\n",
    "from sklearn.feature_extraction.text import TfidfVectorizer\n",
    "from sklearn.cluster import KMeans\n",
    "\n",
    "vectorizer = TfidfVectorizer(stop_words='english')\n",
    "X = vectorizer.fit_transform(df.review)\n",
    " \n",
    "# Creating a k-means object and fitting it to target variable\n",
    "true_k = 2\n",
    "model = KMeans(n_clusters=true_k, init='k-means++', max_iter=300, n_init=1)\n",
    "model.fit(X)\n",
    " \n",
    "# Visualising the 2 clusters\n",
    "print(\"Top terms per cluster:\")\n",
    "order_centroids = model.cluster_centers_.argsort()[:, ::-1]\n",
    "terms = vectorizer.get_feature_names()\n",
    "for i in range(true_k):\n",
    "    print(\"Cluster %d:\" % i),\n",
    "    for ind in order_centroids[i, :10]:\n",
    "        print(' %s' % terms[ind])"
   ]
  },
  {
   "cell_type": "code",
   "execution_count": 74,
   "metadata": {},
   "outputs": [
    {
     "name": "stdout",
     "output_type": "stream",
     "text": [
      "Observation: The unsupervised learning gives an accuracy of 54.27% on the testing data\n"
     ]
    }
   ],
   "source": [
    "Y = vectorizer.transform(df.review)\n",
    "prediction = model.predict(Y)\n",
    "\n",
    "# Actual results of test sets for comparison\n",
    "le = LabelEncoder()\n",
    "y = le.fit_transform(df.sentiment)\n",
    "\n",
    "# check the accuracy of the model\n",
    "accuracy = accuracy_score(y, prediction)\n",
    "if accuracy < 0.5:\n",
    "    accuracy = 1 - accuracy\n",
    "print(\"Observation: The unsupervised learning gives an accuracy of %.2f%% on the testing data\" %(accuracy*100))"
   ]
  },
  {
   "cell_type": "code",
   "execution_count": null,
   "metadata": {},
   "outputs": [],
   "source": []
  }
 ],
 "metadata": {
  "kernelspec": {
   "display_name": "Python 3",
   "language": "python",
   "name": "python3"
  },
  "language_info": {
   "codemirror_mode": {
    "name": "ipython",
    "version": 3
   },
   "file_extension": ".py",
   "mimetype": "text/x-python",
   "name": "python",
   "nbconvert_exporter": "python",
   "pygments_lexer": "ipython3",
   "version": "3.7.0"
  }
 },
 "nbformat": 4,
 "nbformat_minor": 2
}
